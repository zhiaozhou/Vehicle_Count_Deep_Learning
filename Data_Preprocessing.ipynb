{
 "cells": [
  {
   "cell_type": "code",
   "execution_count": 1,
   "metadata": {
    "ExecuteTime": {
     "end_time": "2018-04-29T02:17:25.949987Z",
     "start_time": "2018-04-29T02:17:25.946434Z"
    }
   },
   "outputs": [],
   "source": [
    "import os\n",
    "import sys\n",
    "import shutil\n",
    "import glob\n",
    "from PIL import Image"
   ]
  },
  {
   "cell_type": "code",
   "execution_count": 2,
   "metadata": {
    "ExecuteTime": {
     "end_time": "2018-04-29T02:17:26.582113Z",
     "start_time": "2018-04-29T02:17:26.576079Z"
    }
   },
   "outputs": [],
   "source": [
    "def get_files(folder,suffix):\n",
    "    \"\"\"\n",
    "    Given path to folder, returns list of files in it\n",
    "    \"\"\"\n",
    "    filenames = [file for file in glob.glob(folder+suffix+'*/*.png')]\n",
    "    return filenames\n",
    "\n",
    "def crop(img):\n",
    "    half_the_width = img.size[0]\n",
    "    half_the_height = img.size[1]\n",
    "    img1 = img.crop(\n",
    "        (\n",
    "            32 ,\n",
    "            32 ,\n",
    "            half_the_width-32 ,\n",
    "            half_the_height-32 \n",
    "        )\n",
    "    )\n",
    "    return img1"
   ]
  },
  {
   "cell_type": "code",
   "execution_count": 3,
   "metadata": {
    "ExecuteTime": {
     "end_time": "2018-04-29T02:17:27.072317Z",
     "start_time": "2018-04-29T02:17:27.069058Z"
    }
   },
   "outputs": [],
   "source": [
    "folder = 'data/'"
   ]
  },
  {
   "cell_type": "code",
   "execution_count": null,
   "metadata": {
    "ExecuteTime": {
     "end_time": "2018-04-28T19:46:27.038785Z",
     "start_time": "2018-04-28T19:46:26.536949Z"
    }
   },
   "outputs": [],
   "source": [
    "train = get_files(folder,'train')\n",
    "test = get_files(folder,'test')"
   ]
  },
  {
   "cell_type": "code",
   "execution_count": null,
   "metadata": {
    "ExecuteTime": {
     "end_time": "2018-04-28T20:32:09.888556Z",
     "start_time": "2018-04-28T19:52:11.556108Z"
    }
   },
   "outputs": [],
   "source": [
    "for f in train:\n",
    "    img = crop(Image.open(f))\n",
    "    img.save(f)\n",
    "    subdir = 'data/train/'+str(int(f.split('/')[-1][:2]))+'/'\n",
    "    if str(int(f.split('/')[-1][:2])) not in os.listdir('data/train/'):\n",
    "        os.mkdir(subdir)\n",
    "    shutil.move(f,subdir+f.split('/')[-1])"
   ]
  },
  {
   "cell_type": "code",
   "execution_count": null,
   "metadata": {
    "ExecuteTime": {
     "end_time": "2018-04-28T20:43:13.166305Z",
     "start_time": "2018-04-28T20:33:34.285774Z"
    }
   },
   "outputs": [],
   "source": [
    "for f in test:\n",
    "    img = img = crop(Image.open(f))\n",
    "    img.save(f)\n",
    "    subdir = 'data/test/'+str(int(f.split('/')[-1][:2]))+'/'\n",
    "    if str(int(f.split('/')[-1][:2])) not in os.listdir('data/test/'):\n",
    "        os.mkdir(subdir)\n",
    "    shutil.move(f,subdir+f.split('/')[-1])"
   ]
  },
  {
   "cell_type": "code",
   "execution_count": 4,
   "metadata": {
    "ExecuteTime": {
     "end_time": "2018-04-29T02:17:35.572295Z",
     "start_time": "2018-04-29T02:17:35.558118Z"
    }
   },
   "outputs": [
    {
     "data": {
      "text/plain": [
       "[]"
      ]
     },
     "execution_count": 4,
     "metadata": {},
     "output_type": "execute_result"
    }
   ],
   "source": [
    "get_files(folder,'train')"
   ]
  },
  {
   "cell_type": "code",
   "execution_count": 11,
   "metadata": {
    "ExecuteTime": {
     "end_time": "2018-04-29T02:30:33.965714Z",
     "start_time": "2018-04-29T02:30:33.167471Z"
    }
   },
   "outputs": [],
   "source": [
    "files = glob.glob('data/*/*/*.jpg')"
   ]
  },
  {
   "cell_type": "code",
   "execution_count": 8,
   "metadata": {
    "ExecuteTime": {
     "end_time": "2018-04-29T02:30:11.946763Z",
     "start_time": "2018-04-29T02:17:57.404187Z"
    }
   },
   "outputs": [],
   "source": [
    "for f in files:\n",
    "    img = Image.open(f)\n",
    "    rgb_img = img.convert('RGB')\n",
    "    rgb_img.save(f[:-3]+'jpg')"
   ]
  },
  {
   "cell_type": "code",
   "execution_count": 15,
   "metadata": {
    "ExecuteTime": {
     "end_time": "2018-04-29T02:31:11.427667Z",
     "start_time": "2018-04-29T02:31:11.424079Z"
    }
   },
   "outputs": [
    {
     "data": {
      "text/plain": [
       "'10'"
      ]
     },
     "execution_count": 15,
     "metadata": {},
     "output_type": "execute_result"
    }
   ],
   "source": [
    "files[0].split('/')[-2]"
   ]
  },
  {
   "cell_type": "code",
   "execution_count": 7,
   "metadata": {
    "ExecuteTime": {
     "end_time": "2018-04-29T02:17:53.967998Z",
     "start_time": "2018-04-29T02:17:53.962681Z"
    }
   },
   "outputs": [
    {
     "data": {
      "text/plain": [
       "'data/test/10/10.04679.07110.000.jpg'"
      ]
     },
     "execution_count": 7,
     "metadata": {},
     "output_type": "execute_result"
    }
   ],
   "source": [
    "f[:-3]+'jpg'"
   ]
  },
  {
   "cell_type": "code",
   "execution_count": null,
   "metadata": {},
   "outputs": [],
   "source": []
  }
 ],
 "metadata": {
  "kernelspec": {
   "display_name": "Python 3",
   "language": "python",
   "name": "python3"
  },
  "language_info": {
   "codemirror_mode": {
    "name": "ipython",
    "version": 3
   },
   "file_extension": ".py",
   "mimetype": "text/x-python",
   "name": "python",
   "nbconvert_exporter": "python",
   "pygments_lexer": "ipython3",
   "version": "3.6.5"
  },
  "latex_envs": {
   "LaTeX_envs_menu_present": true,
   "autoclose": false,
   "autocomplete": true,
   "bibliofile": "biblio.bib",
   "cite_by": "apalike",
   "current_citInitial": 1,
   "eqLabelWithNumbers": true,
   "eqNumInitial": 1,
   "hotkeys": {
    "equation": "Ctrl-E",
    "itemize": "Ctrl-I"
   },
   "labels_anchors": false,
   "latex_user_defs": false,
   "report_style_numbering": false,
   "user_envs_cfg": false
  },
  "toc": {
   "nav_menu": {},
   "number_sections": true,
   "sideBar": true,
   "skip_h1_title": false,
   "toc_cell": false,
   "toc_position": {},
   "toc_section_display": "block",
   "toc_window_display": false
  },
  "varInspector": {
   "cols": {
    "lenName": 16,
    "lenType": 16,
    "lenVar": 40
   },
   "kernels_config": {
    "python": {
     "delete_cmd_postfix": "",
     "delete_cmd_prefix": "del ",
     "library": "var_list.py",
     "varRefreshCmd": "print(var_dic_list())"
    },
    "r": {
     "delete_cmd_postfix": ") ",
     "delete_cmd_prefix": "rm(",
     "library": "var_list.r",
     "varRefreshCmd": "cat(var_dic_list()) "
    }
   },
   "position": {
    "height": "144px",
    "left": "589px",
    "right": "20px",
    "top": "120px",
    "width": "350px"
   },
   "types_to_exclude": [
    "module",
    "function",
    "builtin_function_or_method",
    "instance",
    "_Feature"
   ],
   "window_display": true
  }
 },
 "nbformat": 4,
 "nbformat_minor": 2
}
