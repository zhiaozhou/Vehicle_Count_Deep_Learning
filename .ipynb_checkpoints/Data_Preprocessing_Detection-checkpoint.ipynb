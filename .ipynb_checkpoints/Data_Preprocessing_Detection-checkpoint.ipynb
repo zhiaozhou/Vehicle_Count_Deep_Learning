{
 "cells": [
  {
   "cell_type": "code",
   "execution_count": 2,
   "metadata": {
    "ExecuteTime": {
     "end_time": "2018-05-03T01:29:05.970808Z",
     "start_time": "2018-05-03T01:29:05.494143Z"
    }
   },
   "outputs": [],
   "source": [
    "import pandas as pd\n",
    "import glob\n",
    "import os\n",
    "import shutil\n",
    "from PIL import Image\n",
    "import numpy as np"
   ]
  },
  {
   "cell_type": "code",
   "execution_count": 21,
   "metadata": {
    "ExecuteTime": {
     "end_time": "2018-05-02T06:36:15.967965Z",
     "start_time": "2018-05-02T06:36:15.932581Z"
    }
   },
   "outputs": [],
   "source": [
    "annotation = pd.read_csv('data_detection/nyc3dcars-csv/vehicles.csv')"
   ]
  },
  {
   "cell_type": "code",
   "execution_count": 19,
   "metadata": {
    "ExecuteTime": {
     "end_time": "2018-05-02T06:36:06.162588Z",
     "start_time": "2018-05-02T06:36:06.092929Z"
    }
   },
   "outputs": [],
   "source": [
    "image = pd.read_csv('data_detection/nyc3dcars-csv/photos.csv')"
   ]
  },
  {
   "cell_type": "code",
   "execution_count": 11,
   "metadata": {
    "ExecuteTime": {
     "end_time": "2018-05-02T06:33:32.681194Z",
     "start_time": "2018-05-02T06:33:32.673330Z"
    }
   },
   "outputs": [],
   "source": [
    "image = image[['id','filename']]"
   ]
  },
  {
   "cell_type": "code",
   "execution_count": 14,
   "metadata": {
    "ExecuteTime": {
     "end_time": "2018-05-02T06:34:26.842995Z",
     "start_time": "2018-05-02T06:34:26.838420Z"
    }
   },
   "outputs": [],
   "source": [
    "annotation = annotation[['id','x1','y1','x2','y2']]"
   ]
  },
  {
   "cell_type": "code",
   "execution_count": 31,
   "metadata": {
    "ExecuteTime": {
     "end_time": "2018-05-02T06:47:41.829169Z",
     "start_time": "2018-05-02T06:47:41.809547Z"
    }
   },
   "outputs": [],
   "source": [
    "vehicle_labels = pd.merge(image,annotation,left_on='id',right_on='pid')[['filename','x1','y1','x2','y2']]"
   ]
  },
  {
   "cell_type": "code",
   "execution_count": 33,
   "metadata": {
    "ExecuteTime": {
     "end_time": "2018-05-02T06:48:08.081712Z",
     "start_time": "2018-05-02T06:48:08.077880Z"
    }
   },
   "outputs": [],
   "source": [
    "vehicle_labels.insert(1,'class','vehicle')"
   ]
  },
  {
   "cell_type": "code",
   "execution_count": 43,
   "metadata": {
    "ExecuteTime": {
     "end_time": "2018-05-02T07:08:34.146550Z",
     "start_time": "2018-05-02T07:08:34.074102Z"
    }
   },
   "outputs": [],
   "source": [
    "vehicle_labels.filename = vehicle_labels.filename.str.split('/').str[-1]"
   ]
  },
  {
   "cell_type": "code",
   "execution_count": 48,
   "metadata": {
    "ExecuteTime": {
     "end_time": "2018-05-02T23:59:49.321828Z",
     "start_time": "2018-05-02T23:59:49.240635Z"
    }
   },
   "outputs": [],
   "source": [
    "files = glob.glob('./data_detection/**/*.jpg',recursive=True)"
   ]
  },
  {
   "cell_type": "code",
   "execution_count": 54,
   "metadata": {
    "ExecuteTime": {
     "end_time": "2018-05-03T00:00:31.686954Z",
     "start_time": "2018-05-03T00:00:31.393190Z"
    }
   },
   "outputs": [],
   "source": [
    "for i in files:\n",
    "    shutil.move(i,'./detection_image/'+i.split('/')[-1])"
   ]
  },
  {
   "cell_type": "code",
   "execution_count": 68,
   "metadata": {
    "ExecuteTime": {
     "end_time": "2018-05-03T00:04:02.373591Z",
     "start_time": "2018-05-03T00:04:02.369478Z"
    }
   },
   "outputs": [],
   "source": [
    "df2.insert(1,'width',0)"
   ]
  },
  {
   "cell_type": "code",
   "execution_count": 69,
   "metadata": {
    "ExecuteTime": {
     "end_time": "2018-05-03T00:04:06.451420Z",
     "start_time": "2018-05-03T00:04:06.447522Z"
    }
   },
   "outputs": [],
   "source": [
    "df2.insert(2,'height',0)"
   ]
  },
  {
   "cell_type": "code",
   "execution_count": 70,
   "metadata": {
    "ExecuteTime": {
     "end_time": "2018-05-02T07:24:38.281304Z",
     "start_time": "2018-05-02T07:24:38.277248Z"
    }
   },
   "outputs": [],
   "source": [
    "files = './detection_image/'+vehicle_labels.filename"
   ]
  },
  {
   "cell_type": "code",
   "execution_count": 77,
   "metadata": {
    "ExecuteTime": {
     "end_time": "2018-05-02T07:25:49.677882Z",
     "start_time": "2018-05-02T07:25:49.661216Z"
    }
   },
   "outputs": [
    {
     "data": {
      "text/html": [
       "<div>\n",
       "<style scoped>\n",
       "    .dataframe tbody tr th:only-of-type {\n",
       "        vertical-align: middle;\n",
       "    }\n",
       "\n",
       "    .dataframe tbody tr th {\n",
       "        vertical-align: top;\n",
       "    }\n",
       "\n",
       "    .dataframe thead th {\n",
       "        text-align: right;\n",
       "    }\n",
       "</style>\n",
       "<table border=\"1\" class=\"dataframe\">\n",
       "  <thead>\n",
       "    <tr style=\"text-align: right;\">\n",
       "      <th></th>\n",
       "      <th>filename</th>\n",
       "      <th>width</th>\n",
       "      <th>height</th>\n",
       "      <th>class</th>\n",
       "      <th>x1</th>\n",
       "      <th>y1</th>\n",
       "      <th>x2</th>\n",
       "      <th>y2</th>\n",
       "    </tr>\n",
       "  </thead>\n",
       "  <tbody>\n",
       "    <tr>\n",
       "      <th>0</th>\n",
       "      <td>3115313077_1f98782a28_o.jpg</td>\n",
       "      <td>0</td>\n",
       "      <td>0</td>\n",
       "      <td>vehicle</td>\n",
       "      <td>0.050556</td>\n",
       "      <td>0.590772</td>\n",
       "      <td>0.154850</td>\n",
       "      <td>0.632466</td>\n",
       "    </tr>\n",
       "    <tr>\n",
       "      <th>1</th>\n",
       "      <td>3115313077_1f98782a28_o.jpg</td>\n",
       "      <td>0</td>\n",
       "      <td>0</td>\n",
       "      <td>vehicle</td>\n",
       "      <td>0.168793</td>\n",
       "      <td>0.607008</td>\n",
       "      <td>0.295837</td>\n",
       "      <td>0.670164</td>\n",
       "    </tr>\n",
       "    <tr>\n",
       "      <th>2</th>\n",
       "      <td>3115313077_1f98782a28_o.jpg</td>\n",
       "      <td>0</td>\n",
       "      <td>0</td>\n",
       "      <td>vehicle</td>\n",
       "      <td>0.129684</td>\n",
       "      <td>0.584557</td>\n",
       "      <td>0.254496</td>\n",
       "      <td>0.633782</td>\n",
       "    </tr>\n",
       "  </tbody>\n",
       "</table>\n",
       "</div>"
      ],
      "text/plain": [
       "                      filename  width  height    class        x1        y1  \\\n",
       "0  3115313077_1f98782a28_o.jpg      0       0  vehicle  0.050556  0.590772   \n",
       "1  3115313077_1f98782a28_o.jpg      0       0  vehicle  0.168793  0.607008   \n",
       "2  3115313077_1f98782a28_o.jpg      0       0  vehicle  0.129684  0.584557   \n",
       "\n",
       "         x2        y2  \n",
       "0  0.154850  0.632466  \n",
       "1  0.295837  0.670164  \n",
       "2  0.254496  0.633782  "
      ]
     },
     "execution_count": 77,
     "metadata": {},
     "output_type": "execute_result"
    }
   ],
   "source": [
    "vehicle_labels.head(3)"
   ]
  },
  {
   "cell_type": "code",
   "execution_count": 82,
   "metadata": {
    "ExecuteTime": {
     "end_time": "2018-05-02T07:27:11.400356Z",
     "start_time": "2018-05-02T07:27:11.396394Z"
    }
   },
   "outputs": [
    {
     "data": {
      "text/plain": [
       "0"
      ]
     },
     "execution_count": 82,
     "metadata": {},
     "output_type": "execute_result"
    }
   ],
   "source": [
    "vehicle_labels.iloc[0,2]"
   ]
  },
  {
   "cell_type": "code",
   "execution_count": 70,
   "metadata": {
    "ExecuteTime": {
     "end_time": "2018-05-03T00:04:08.380465Z",
     "start_time": "2018-05-03T00:04:08.366770Z"
    }
   },
   "outputs": [
    {
     "data": {
      "text/html": [
       "<div>\n",
       "<style scoped>\n",
       "    .dataframe tbody tr th:only-of-type {\n",
       "        vertical-align: middle;\n",
       "    }\n",
       "\n",
       "    .dataframe tbody tr th {\n",
       "        vertical-align: top;\n",
       "    }\n",
       "\n",
       "    .dataframe thead th {\n",
       "        text-align: right;\n",
       "    }\n",
       "</style>\n",
       "<table border=\"1\" class=\"dataframe\">\n",
       "  <thead>\n",
       "    <tr style=\"text-align: right;\">\n",
       "      <th></th>\n",
       "      <th>filename</th>\n",
       "      <th>width</th>\n",
       "      <th>height</th>\n",
       "      <th>class</th>\n",
       "      <th>xmin</th>\n",
       "      <th>ymin</th>\n",
       "      <th>xmax</th>\n",
       "      <th>ymax</th>\n",
       "    </tr>\n",
       "  </thead>\n",
       "  <tbody>\n",
       "    <tr>\n",
       "      <th>0</th>\n",
       "      <td>1478019952686311006.jpg</td>\n",
       "      <td>0</td>\n",
       "      <td>0</td>\n",
       "      <td>vehicle</td>\n",
       "      <td>950</td>\n",
       "      <td>574</td>\n",
       "      <td>1004</td>\n",
       "      <td>620</td>\n",
       "    </tr>\n",
       "    <tr>\n",
       "      <th>1</th>\n",
       "      <td>1478019952686311006.jpg</td>\n",
       "      <td>0</td>\n",
       "      <td>0</td>\n",
       "      <td>vehicle</td>\n",
       "      <td>1748</td>\n",
       "      <td>482</td>\n",
       "      <td>1818</td>\n",
       "      <td>744</td>\n",
       "    </tr>\n",
       "    <tr>\n",
       "      <th>2</th>\n",
       "      <td>1478019953180167674.jpg</td>\n",
       "      <td>0</td>\n",
       "      <td>0</td>\n",
       "      <td>vehicle</td>\n",
       "      <td>872</td>\n",
       "      <td>586</td>\n",
       "      <td>926</td>\n",
       "      <td>632</td>\n",
       "    </tr>\n",
       "  </tbody>\n",
       "</table>\n",
       "</div>"
      ],
      "text/plain": [
       "                  filename  width  height    class  xmin  ymin  xmax  ymax\n",
       "0  1478019952686311006.jpg      0       0  vehicle   950   574  1004   620\n",
       "1  1478019952686311006.jpg      0       0  vehicle  1748   482  1818   744\n",
       "2  1478019953180167674.jpg      0       0  vehicle   872   586   926   632"
      ]
     },
     "execution_count": 70,
     "metadata": {},
     "output_type": "execute_result"
    }
   ],
   "source": [
    "df2.head(3)"
   ]
  },
  {
   "cell_type": "code",
   "execution_count": 94,
   "metadata": {
    "ExecuteTime": {
     "end_time": "2018-05-03T00:57:32.761464Z",
     "start_time": "2018-05-03T00:57:32.757186Z"
    }
   },
   "outputs": [
    {
     "data": {
      "text/plain": [
       "Index(['filename', 'width', 'height', 'class', 'xmin', 'ymin', 'xmax', 'ymax'], dtype='object')"
      ]
     },
     "execution_count": 94,
     "metadata": {},
     "output_type": "execute_result"
    }
   ],
   "source": [
    "df.columns"
   ]
  },
  {
   "cell_type": "code",
   "execution_count": 95,
   "metadata": {
    "ExecuteTime": {
     "end_time": "2018-05-03T00:57:36.156570Z",
     "start_time": "2018-05-03T00:57:36.152554Z"
    }
   },
   "outputs": [
    {
     "data": {
      "text/plain": [
       "Index(['filename', 'width', 'height', 'class', 'xmin', 'ymin', 'xmax', 'ymax'], dtype='object')"
      ]
     },
     "execution_count": 95,
     "metadata": {},
     "output_type": "execute_result"
    }
   ],
   "source": [
    "df2.columns"
   ]
  },
  {
   "cell_type": "code",
   "execution_count": 97,
   "metadata": {
    "ExecuteTime": {
     "end_time": "2018-05-03T00:57:55.807601Z",
     "start_time": "2018-05-03T00:57:55.786027Z"
    }
   },
   "outputs": [],
   "source": [
    "data = pd.concat([df,df2])"
   ]
  },
  {
   "cell_type": "code",
   "execution_count": 102,
   "metadata": {
    "ExecuteTime": {
     "end_time": "2018-05-03T00:58:20.412403Z",
     "start_time": "2018-05-03T00:58:20.405551Z"
    }
   },
   "outputs": [],
   "source": [
    "val = data.sample(20)"
   ]
  },
  {
   "cell_type": "code",
   "execution_count": 103,
   "metadata": {
    "ExecuteTime": {
     "end_time": "2018-05-03T00:58:38.761453Z",
     "start_time": "2018-05-03T00:58:38.738958Z"
    }
   },
   "outputs": [],
   "source": [
    "train = data[~data.filename.isin(val.filename)]"
   ]
  },
  {
   "cell_type": "code",
   "execution_count": 105,
   "metadata": {
    "ExecuteTime": {
     "end_time": "2018-05-03T00:58:58.445382Z",
     "start_time": "2018-05-03T00:58:57.409559Z"
    }
   },
   "outputs": [],
   "source": [
    "train.to_csv('train_label.csv')"
   ]
  },
  {
   "cell_type": "code",
   "execution_count": 106,
   "metadata": {
    "ExecuteTime": {
     "end_time": "2018-05-03T00:59:04.645901Z",
     "start_time": "2018-05-03T00:59:04.640455Z"
    }
   },
   "outputs": [],
   "source": [
    "val.to_csv('val_label.csv')"
   ]
  },
  {
   "cell_type": "code",
   "execution_count": 91,
   "metadata": {
    "ExecuteTime": {
     "end_time": "2018-05-03T00:57:19.967778Z",
     "start_time": "2018-05-03T00:32:29.989253Z"
    }
   },
   "outputs": [
    {
     "name": "stdout",
     "output_type": "stream",
     "text": [
      "0/22281\n",
      "100/22281\n",
      "200/22281\n",
      "300/22281\n",
      "400/22281\n",
      "500/22281\n",
      "600/22281\n",
      "700/22281\n",
      "800/22281\n",
      "900/22281\n",
      "1000/22281\n",
      "1100/22281\n",
      "1200/22281\n",
      "1300/22281\n",
      "1400/22281\n",
      "1500/22281\n",
      "1600/22281\n",
      "1700/22281\n",
      "1800/22281\n",
      "1900/22281\n",
      "2000/22281\n",
      "2100/22281\n",
      "2200/22281\n",
      "2300/22281\n",
      "2400/22281\n",
      "2500/22281\n",
      "2600/22281\n",
      "2700/22281\n",
      "2800/22281\n",
      "2900/22281\n",
      "3000/22281\n",
      "3100/22281\n",
      "3200/22281\n",
      "3300/22281\n",
      "3400/22281\n",
      "3500/22281\n",
      "3600/22281\n",
      "3700/22281\n",
      "3800/22281\n",
      "3900/22281\n",
      "4000/22281\n",
      "4100/22281\n",
      "4200/22281\n",
      "4300/22281\n",
      "4400/22281\n",
      "4500/22281\n",
      "4600/22281\n",
      "4700/22281\n",
      "4800/22281\n",
      "4900/22281\n",
      "5000/22281\n",
      "5100/22281\n",
      "5200/22281\n",
      "5300/22281\n",
      "5400/22281\n",
      "5500/22281\n",
      "5600/22281\n",
      "5700/22281\n",
      "5800/22281\n",
      "5900/22281\n",
      "6000/22281\n",
      "6100/22281\n",
      "6200/22281\n",
      "6300/22281\n",
      "6400/22281\n",
      "6500/22281\n",
      "6600/22281\n",
      "6700/22281\n",
      "6800/22281\n",
      "6900/22281\n",
      "7000/22281\n",
      "7100/22281\n",
      "7200/22281\n",
      "7300/22281\n",
      "7400/22281\n",
      "7500/22281\n",
      "7600/22281\n",
      "7700/22281\n",
      "7800/22281\n",
      "7900/22281\n",
      "8000/22281\n",
      "8100/22281\n",
      "8200/22281\n",
      "8300/22281\n",
      "8400/22281\n",
      "8500/22281\n",
      "8600/22281\n",
      "8700/22281\n",
      "8800/22281\n",
      "8900/22281\n",
      "9000/22281\n",
      "9100/22281\n",
      "9200/22281\n",
      "9300/22281\n",
      "9400/22281\n",
      "9500/22281\n",
      "9600/22281\n",
      "9700/22281\n",
      "9800/22281\n",
      "9900/22281\n",
      "10000/22281\n",
      "10100/22281\n",
      "10200/22281\n",
      "10300/22281\n",
      "10400/22281\n",
      "10500/22281\n",
      "10600/22281\n",
      "10700/22281\n",
      "10800/22281\n",
      "10900/22281\n",
      "11000/22281\n",
      "11100/22281\n",
      "11200/22281\n",
      "11300/22281\n",
      "11400/22281\n",
      "11500/22281\n",
      "11600/22281\n",
      "11700/22281\n",
      "11800/22281\n",
      "11900/22281\n",
      "12000/22281\n",
      "12100/22281\n",
      "12200/22281\n",
      "12300/22281\n",
      "12400/22281\n",
      "12500/22281\n",
      "12600/22281\n",
      "12700/22281\n",
      "12800/22281\n",
      "12900/22281\n",
      "13000/22281\n",
      "13100/22281\n",
      "13200/22281\n",
      "13300/22281\n",
      "13400/22281\n",
      "13500/22281\n",
      "13600/22281\n",
      "13700/22281\n",
      "13800/22281\n",
      "13900/22281\n",
      "14000/22281\n",
      "14100/22281\n",
      "14200/22281\n",
      "14300/22281\n",
      "14400/22281\n",
      "14500/22281\n",
      "14600/22281\n",
      "14700/22281\n",
      "14800/22281\n",
      "14900/22281\n",
      "15000/22281\n",
      "15100/22281\n",
      "15200/22281\n",
      "15300/22281\n",
      "15400/22281\n",
      "15500/22281\n",
      "15600/22281\n",
      "15700/22281\n",
      "15800/22281\n",
      "15900/22281\n",
      "16000/22281\n",
      "16100/22281\n",
      "16200/22281\n",
      "16300/22281\n",
      "16400/22281\n",
      "16500/22281\n",
      "16600/22281\n",
      "16700/22281\n",
      "16800/22281\n",
      "16900/22281\n",
      "17000/22281\n",
      "17100/22281\n",
      "17200/22281\n",
      "17300/22281\n",
      "17400/22281\n",
      "17500/22281\n",
      "17600/22281\n",
      "17700/22281\n",
      "17800/22281\n",
      "17900/22281\n",
      "18000/22281\n",
      "18100/22281\n",
      "18200/22281\n",
      "18300/22281\n",
      "18400/22281\n",
      "18500/22281\n",
      "18600/22281\n",
      "18700/22281\n",
      "18800/22281\n",
      "18900/22281\n",
      "19000/22281\n",
      "19100/22281\n",
      "19200/22281\n",
      "19300/22281\n",
      "19400/22281\n",
      "19500/22281\n",
      "19600/22281\n",
      "19700/22281\n",
      "19800/22281\n",
      "19900/22281\n",
      "20000/22281\n",
      "20100/22281\n",
      "20200/22281\n",
      "20300/22281\n",
      "20400/22281\n",
      "20500/22281\n",
      "20600/22281\n",
      "20700/22281\n",
      "20800/22281\n",
      "20900/22281\n",
      "21000/22281\n",
      "21100/22281\n",
      "21200/22281\n",
      "21300/22281\n",
      "21400/22281\n",
      "21500/22281\n",
      "21600/22281\n",
      "21700/22281\n",
      "21800/22281\n",
      "21900/22281\n",
      "22000/22281\n",
      "22100/22281\n",
      "22200/22281\n"
     ]
    }
   ],
   "source": [
    "j = 0\n",
    "for i in df2.filename.unique():\n",
    "    img = Image.open('./detection_image/'+i)\n",
    "    df2.loc[df2.filename == i,'width'] = np.asarray(img).shape[0]\n",
    "    df2.loc[df2.filename == i,'height']  = np.asarray(img).shape[1]\n",
    "    if j % 100 == 0 :\n",
    "        print('{}/{}'.format(j,22281))\n",
    "    j += 1"
   ]
  },
  {
   "cell_type": "code",
   "execution_count": 86,
   "metadata": {
    "ExecuteTime": {
     "end_time": "2018-05-02T07:32:01.858265Z",
     "start_time": "2018-05-02T07:32:01.853835Z"
    }
   },
   "outputs": [],
   "source": [
    "vehicle_labels = vehicle_labels.rename(columns = {'x1':'xmin','y1':'ymin','x2':'xmax','y2':'ymax'})"
   ]
  },
  {
   "cell_type": "code",
   "execution_count": 88,
   "metadata": {
    "ExecuteTime": {
     "end_time": "2018-05-02T07:33:43.796516Z",
     "start_time": "2018-05-02T07:33:43.743201Z"
    }
   },
   "outputs": [],
   "source": [
    "vehicle_labels.to_csv('train_labels.csv')"
   ]
  },
  {
   "cell_type": "code",
   "execution_count": 4,
   "metadata": {
    "ExecuteTime": {
     "end_time": "2018-05-03T01:29:19.156087Z",
     "start_time": "2018-05-03T01:29:18.985601Z"
    }
   },
   "outputs": [],
   "source": [
    "train = pd.read_csv('data_detection/train_label.csv')\n",
    "valid = pd.read_csv('data_detection/val_label.csv')"
   ]
  },
  {
   "cell_type": "code",
   "execution_count": 21,
   "metadata": {
    "ExecuteTime": {
     "end_time": "2018-05-02T16:59:25.690343Z",
     "start_time": "2018-05-02T16:59:25.680270Z"
    }
   },
   "outputs": [],
   "source": [
    "train = train[(train.xmin<1)&(train.xmin>0)&(train.xmax<1)&(train.xmax>0)&(train.ymin<1)&(train.ymin>0)&(train.ymax<1)&(train.ymax>0)].drop('Unnamed: 0',1)"
   ]
  },
  {
   "cell_type": "code",
   "execution_count": 23,
   "metadata": {
    "ExecuteTime": {
     "end_time": "2018-05-02T16:59:36.894905Z",
     "start_time": "2018-05-02T16:59:36.867742Z"
    }
   },
   "outputs": [],
   "source": [
    "train.to_csv('train_labels.csv')"
   ]
  },
  {
   "cell_type": "code",
   "execution_count": 28,
   "metadata": {
    "ExecuteTime": {
     "end_time": "2018-05-02T17:01:47.793083Z",
     "start_time": "2018-05-02T17:01:47.782464Z"
    }
   },
   "outputs": [],
   "source": [
    "valid = valid[(valid.xmin<1)&(valid.xmin>0)&(valid.xmax<1)&(valid.xmax>0)&(valid.ymin<1)&(valid.ymin>0)&(valid.ymax<1)&(valid.ymax>0)].drop('Unnamed: 0',1).drop('Unnamed: 0.1',1)"
   ]
  },
  {
   "cell_type": "code",
   "execution_count": 29,
   "metadata": {
    "ExecuteTime": {
     "end_time": "2018-05-02T17:01:57.617218Z",
     "start_time": "2018-05-02T17:01:57.607492Z"
    }
   },
   "outputs": [],
   "source": [
    "valid.to_csv('val_labels.csv')"
   ]
  },
  {
   "cell_type": "code",
   "execution_count": 95,
   "metadata": {
    "ExecuteTime": {
     "end_time": "2018-05-02T08:04:13.558704Z",
     "start_time": "2018-05-02T08:04:13.554404Z"
    }
   },
   "outputs": [],
   "source": [
    "val = vehicle_labels.sample(int(len(vehicle_labels)*0.1))"
   ]
  },
  {
   "cell_type": "code",
   "execution_count": 103,
   "metadata": {
    "ExecuteTime": {
     "end_time": "2018-05-02T08:06:03.660545Z",
     "start_time": "2018-05-02T08:06:03.654600Z"
    }
   },
   "outputs": [],
   "source": [
    "train = vehicle_labels[~vehicle_labels.filename.isin(list(val.filename))].drop('Unnamed: 0',1)"
   ]
  },
  {
   "cell_type": "code",
   "execution_count": 26,
   "metadata": {
    "ExecuteTime": {
     "end_time": "2018-05-02T23:53:31.187934Z",
     "start_time": "2018-05-02T23:53:31.179565Z"
    }
   },
   "outputs": [],
   "source": [
    "val = pd.read_csv('val_labels 1.csv')"
   ]
  },
  {
   "cell_type": "code",
   "execution_count": 27,
   "metadata": {
    "ExecuteTime": {
     "end_time": "2018-05-02T23:53:42.885029Z",
     "start_time": "2018-05-02T23:53:42.873794Z"
    }
   },
   "outputs": [],
   "source": [
    "train = pd.read_csv('train_labels 2.csv')"
   ]
  },
  {
   "cell_type": "code",
   "execution_count": 30,
   "metadata": {
    "ExecuteTime": {
     "end_time": "2018-05-02T23:54:08.649712Z",
     "start_time": "2018-05-02T23:54:08.641328Z"
    }
   },
   "outputs": [],
   "source": [
    "df = pd.concat([train,val])"
   ]
  },
  {
   "cell_type": "code",
   "execution_count": 32,
   "metadata": {
    "ExecuteTime": {
     "end_time": "2018-05-02T23:54:29.355383Z",
     "start_time": "2018-05-02T23:54:29.346593Z"
    }
   },
   "outputs": [],
   "source": [
    "df = df.drop('Unnamed: 0',1)"
   ]
  },
  {
   "cell_type": "code",
   "execution_count": 35,
   "metadata": {
    "ExecuteTime": {
     "end_time": "2018-05-02T23:56:46.490021Z",
     "start_time": "2018-05-02T23:56:46.435384Z"
    }
   },
   "outputs": [],
   "source": [
    "for i in ['xmin','xmax']:\n",
    "    df[i] = df[i]*df['width']"
   ]
  },
  {
   "cell_type": "code",
   "execution_count": 36,
   "metadata": {
    "ExecuteTime": {
     "end_time": "2018-05-02T23:57:10.418698Z",
     "start_time": "2018-05-02T23:57:10.414151Z"
    }
   },
   "outputs": [],
   "source": [
    "for i in ['ymin','ymax']:\n",
    "    df[i] = df[i]*df['height']"
   ]
  },
  {
   "cell_type": "code",
   "execution_count": 38,
   "metadata": {
    "ExecuteTime": {
     "end_time": "2018-05-02T23:57:22.543390Z",
     "start_time": "2018-05-02T23:57:22.528348Z"
    }
   },
   "outputs": [
    {
     "data": {
      "text/html": [
       "<div>\n",
       "<style scoped>\n",
       "    .dataframe tbody tr th:only-of-type {\n",
       "        vertical-align: middle;\n",
       "    }\n",
       "\n",
       "    .dataframe tbody tr th {\n",
       "        vertical-align: top;\n",
       "    }\n",
       "\n",
       "    .dataframe thead th {\n",
       "        text-align: right;\n",
       "    }\n",
       "</style>\n",
       "<table border=\"1\" class=\"dataframe\">\n",
       "  <thead>\n",
       "    <tr style=\"text-align: right;\">\n",
       "      <th></th>\n",
       "      <th>filename</th>\n",
       "      <th>width</th>\n",
       "      <th>height</th>\n",
       "      <th>class</th>\n",
       "      <th>xmin</th>\n",
       "      <th>ymin</th>\n",
       "      <th>xmax</th>\n",
       "      <th>ymax</th>\n",
       "    </tr>\n",
       "  </thead>\n",
       "  <tbody>\n",
       "    <tr>\n",
       "      <th>0</th>\n",
       "      <td>24132774_b9929cd668_o.jpg</td>\n",
       "      <td>800</td>\n",
       "      <td>600</td>\n",
       "      <td>vehicle</td>\n",
       "      <td>319.289160</td>\n",
       "      <td>346.027207</td>\n",
       "      <td>470.632410</td>\n",
       "      <td>395.200610</td>\n",
       "    </tr>\n",
       "    <tr>\n",
       "      <th>1</th>\n",
       "      <td>24132774_b9929cd668_o.jpg</td>\n",
       "      <td>800</td>\n",
       "      <td>600</td>\n",
       "      <td>vehicle</td>\n",
       "      <td>465.486240</td>\n",
       "      <td>352.557492</td>\n",
       "      <td>598.569679</td>\n",
       "      <td>390.155125</td>\n",
       "    </tr>\n",
       "    <tr>\n",
       "      <th>2</th>\n",
       "      <td>3214482128_9b9e3b82b0_o.jpg</td>\n",
       "      <td>1000</td>\n",
       "      <td>867</td>\n",
       "      <td>vehicle</td>\n",
       "      <td>559.847355</td>\n",
       "      <td>466.204708</td>\n",
       "      <td>628.090680</td>\n",
       "      <td>514.931269</td>\n",
       "    </tr>\n",
       "    <tr>\n",
       "      <th>3</th>\n",
       "      <td>3214482128_9b9e3b82b0_o.jpg</td>\n",
       "      <td>1000</td>\n",
       "      <td>867</td>\n",
       "      <td>vehicle</td>\n",
       "      <td>648.587584</td>\n",
       "      <td>466.768662</td>\n",
       "      <td>812.520564</td>\n",
       "      <td>550.245677</td>\n",
       "    </tr>\n",
       "    <tr>\n",
       "      <th>4</th>\n",
       "      <td>3299004599_76f20ab4de_o.jpg</td>\n",
       "      <td>1067</td>\n",
       "      <td>1600</td>\n",
       "      <td>vehicle</td>\n",
       "      <td>68.269647</td>\n",
       "      <td>1440.175629</td>\n",
       "      <td>223.544943</td>\n",
       "      <td>1582.184219</td>\n",
       "    </tr>\n",
       "  </tbody>\n",
       "</table>\n",
       "</div>"
      ],
      "text/plain": [
       "                      filename  width  height    class        xmin  \\\n",
       "0    24132774_b9929cd668_o.jpg    800     600  vehicle  319.289160   \n",
       "1    24132774_b9929cd668_o.jpg    800     600  vehicle  465.486240   \n",
       "2  3214482128_9b9e3b82b0_o.jpg   1000     867  vehicle  559.847355   \n",
       "3  3214482128_9b9e3b82b0_o.jpg   1000     867  vehicle  648.587584   \n",
       "4  3299004599_76f20ab4de_o.jpg   1067    1600  vehicle   68.269647   \n",
       "\n",
       "          ymin        xmax         ymax  \n",
       "0   346.027207  470.632410   395.200610  \n",
       "1   352.557492  598.569679   390.155125  \n",
       "2   466.204708  628.090680   514.931269  \n",
       "3   466.768662  812.520564   550.245677  \n",
       "4  1440.175629  223.544943  1582.184219  "
      ]
     },
     "execution_count": 38,
     "metadata": {},
     "output_type": "execute_result"
    }
   ],
   "source": [
    "df.head()"
   ]
  },
  {
   "cell_type": "code",
   "execution_count": 2,
   "metadata": {
    "ExecuteTime": {
     "end_time": "2018-05-02T23:25:35.864132Z",
     "start_time": "2018-05-02T23:25:35.757177Z"
    }
   },
   "outputs": [],
   "source": [
    "crowdai = pd.read_csv('data_detection/labels_crowdai.csv')"
   ]
  },
  {
   "cell_type": "code",
   "execution_count": 39,
   "metadata": {
    "ExecuteTime": {
     "end_time": "2018-05-02T23:57:30.053436Z",
     "start_time": "2018-05-02T23:57:29.964415Z"
    }
   },
   "outputs": [],
   "source": [
    "dataset = pd.read_csv('data_detection/object-dataset/labels.csv',sep='\\s+',skipinitialspace=True)"
   ]
  },
  {
   "cell_type": "code",
   "execution_count": null,
   "metadata": {},
   "outputs": [],
   "source": []
  },
  {
   "cell_type": "code",
   "execution_count": 55,
   "metadata": {
    "ExecuteTime": {
     "end_time": "2018-05-03T00:00:53.298383Z",
     "start_time": "2018-05-03T00:00:53.284846Z"
    }
   },
   "outputs": [
    {
     "data": {
      "text/html": [
       "<div>\n",
       "<style scoped>\n",
       "    .dataframe tbody tr th:only-of-type {\n",
       "        vertical-align: middle;\n",
       "    }\n",
       "\n",
       "    .dataframe tbody tr th {\n",
       "        vertical-align: top;\n",
       "    }\n",
       "\n",
       "    .dataframe thead th {\n",
       "        text-align: right;\n",
       "    }\n",
       "</style>\n",
       "<table border=\"1\" class=\"dataframe\">\n",
       "  <thead>\n",
       "    <tr style=\"text-align: right;\">\n",
       "      <th></th>\n",
       "      <th>filename</th>\n",
       "      <th>xmin</th>\n",
       "      <th>ymin</th>\n",
       "      <th>xmax</th>\n",
       "      <th>ymax</th>\n",
       "      <th>occluded</th>\n",
       "      <th>class</th>\n",
       "      <th>attributes</th>\n",
       "    </tr>\n",
       "  </thead>\n",
       "  <tbody>\n",
       "    <tr>\n",
       "      <th>0</th>\n",
       "      <td>1478019952686311006.jpg</td>\n",
       "      <td>950</td>\n",
       "      <td>574</td>\n",
       "      <td>1004</td>\n",
       "      <td>620</td>\n",
       "      <td>0</td>\n",
       "      <td>car</td>\n",
       "      <td>NaN</td>\n",
       "    </tr>\n",
       "    <tr>\n",
       "      <th>1</th>\n",
       "      <td>1478019952686311006.jpg</td>\n",
       "      <td>1748</td>\n",
       "      <td>482</td>\n",
       "      <td>1818</td>\n",
       "      <td>744</td>\n",
       "      <td>0</td>\n",
       "      <td>pedestrian</td>\n",
       "      <td>NaN</td>\n",
       "    </tr>\n",
       "    <tr>\n",
       "      <th>2</th>\n",
       "      <td>1478019953180167674.jpg</td>\n",
       "      <td>872</td>\n",
       "      <td>586</td>\n",
       "      <td>926</td>\n",
       "      <td>632</td>\n",
       "      <td>0</td>\n",
       "      <td>car</td>\n",
       "      <td>NaN</td>\n",
       "    </tr>\n",
       "    <tr>\n",
       "      <th>3</th>\n",
       "      <td>1478019953689774621.jpg</td>\n",
       "      <td>686</td>\n",
       "      <td>566</td>\n",
       "      <td>728</td>\n",
       "      <td>618</td>\n",
       "      <td>1</td>\n",
       "      <td>truck</td>\n",
       "      <td>NaN</td>\n",
       "    </tr>\n",
       "    <tr>\n",
       "      <th>4</th>\n",
       "      <td>1478019953689774621.jpg</td>\n",
       "      <td>716</td>\n",
       "      <td>578</td>\n",
       "      <td>764</td>\n",
       "      <td>622</td>\n",
       "      <td>0</td>\n",
       "      <td>car</td>\n",
       "      <td>NaN</td>\n",
       "    </tr>\n",
       "  </tbody>\n",
       "</table>\n",
       "</div>"
      ],
      "text/plain": [
       "                  filename  xmin  ymin  xmax  ymax  occluded       class  \\\n",
       "0  1478019952686311006.jpg   950   574  1004   620         0         car   \n",
       "1  1478019952686311006.jpg  1748   482  1818   744         0  pedestrian   \n",
       "2  1478019953180167674.jpg   872   586   926   632         0         car   \n",
       "3  1478019953689774621.jpg   686   566   728   618         1       truck   \n",
       "4  1478019953689774621.jpg   716   578   764   622         0         car   \n",
       "\n",
       "  attributes  \n",
       "0        NaN  \n",
       "1        NaN  \n",
       "2        NaN  \n",
       "3        NaN  \n",
       "4        NaN  "
      ]
     },
     "execution_count": 55,
     "metadata": {},
     "output_type": "execute_result"
    }
   ],
   "source": [
    "dataset.head()"
   ]
  },
  {
   "cell_type": "code",
   "execution_count": 57,
   "metadata": {
    "ExecuteTime": {
     "end_time": "2018-05-03T00:01:39.209744Z",
     "start_time": "2018-05-03T00:01:39.199336Z"
    }
   },
   "outputs": [],
   "source": [
    "crowdai = crowdai.rename(columns = {'Frame':'filename','Label':'class'})"
   ]
  },
  {
   "cell_type": "code",
   "execution_count": 61,
   "metadata": {
    "ExecuteTime": {
     "end_time": "2018-05-03T00:02:44.112719Z",
     "start_time": "2018-05-03T00:02:44.074520Z"
    }
   },
   "outputs": [],
   "source": [
    "df2 = pd.concat([dataset,crowdai])[['filename','class','xmin','ymin','xmax','ymax']]"
   ]
  },
  {
   "cell_type": "code",
   "execution_count": 63,
   "metadata": {
    "ExecuteTime": {
     "end_time": "2018-05-03T00:03:05.368817Z",
     "start_time": "2018-05-03T00:03:05.296754Z"
    }
   },
   "outputs": [],
   "source": [
    "df2['class'] = 'vehicle'"
   ]
  },
  {
   "cell_type": "code",
   "execution_count": null,
   "metadata": {},
   "outputs": [],
   "source": []
  },
  {
   "cell_type": "code",
   "execution_count": 64,
   "metadata": {
    "ExecuteTime": {
     "end_time": "2018-05-03T00:03:07.574679Z",
     "start_time": "2018-05-03T00:03:07.550368Z"
    },
    "scrolled": true
   },
   "outputs": [
    {
     "data": {
      "text/html": [
       "<div>\n",
       "<style scoped>\n",
       "    .dataframe tbody tr th:only-of-type {\n",
       "        vertical-align: middle;\n",
       "    }\n",
       "\n",
       "    .dataframe tbody tr th {\n",
       "        vertical-align: top;\n",
       "    }\n",
       "\n",
       "    .dataframe thead th {\n",
       "        text-align: right;\n",
       "    }\n",
       "</style>\n",
       "<table border=\"1\" class=\"dataframe\">\n",
       "  <thead>\n",
       "    <tr style=\"text-align: right;\">\n",
       "      <th></th>\n",
       "      <th>filename</th>\n",
       "      <th>class</th>\n",
       "      <th>xmin</th>\n",
       "      <th>ymin</th>\n",
       "      <th>xmax</th>\n",
       "      <th>ymax</th>\n",
       "    </tr>\n",
       "  </thead>\n",
       "  <tbody>\n",
       "    <tr>\n",
       "      <th>0</th>\n",
       "      <td>1478019952686311006.jpg</td>\n",
       "      <td>vehicle</td>\n",
       "      <td>950</td>\n",
       "      <td>574</td>\n",
       "      <td>1004</td>\n",
       "      <td>620</td>\n",
       "    </tr>\n",
       "    <tr>\n",
       "      <th>1</th>\n",
       "      <td>1478019952686311006.jpg</td>\n",
       "      <td>vehicle</td>\n",
       "      <td>1748</td>\n",
       "      <td>482</td>\n",
       "      <td>1818</td>\n",
       "      <td>744</td>\n",
       "    </tr>\n",
       "    <tr>\n",
       "      <th>2</th>\n",
       "      <td>1478019953180167674.jpg</td>\n",
       "      <td>vehicle</td>\n",
       "      <td>872</td>\n",
       "      <td>586</td>\n",
       "      <td>926</td>\n",
       "      <td>632</td>\n",
       "    </tr>\n",
       "    <tr>\n",
       "      <th>3</th>\n",
       "      <td>1478019953689774621.jpg</td>\n",
       "      <td>vehicle</td>\n",
       "      <td>686</td>\n",
       "      <td>566</td>\n",
       "      <td>728</td>\n",
       "      <td>618</td>\n",
       "    </tr>\n",
       "    <tr>\n",
       "      <th>4</th>\n",
       "      <td>1478019953689774621.jpg</td>\n",
       "      <td>vehicle</td>\n",
       "      <td>716</td>\n",
       "      <td>578</td>\n",
       "      <td>764</td>\n",
       "      <td>622</td>\n",
       "    </tr>\n",
       "    <tr>\n",
       "      <th>5</th>\n",
       "      <td>1478019953689774621.jpg</td>\n",
       "      <td>vehicle</td>\n",
       "      <td>826</td>\n",
       "      <td>580</td>\n",
       "      <td>880</td>\n",
       "      <td>626</td>\n",
       "    </tr>\n",
       "    <tr>\n",
       "      <th>6</th>\n",
       "      <td>1478019953689774621.jpg</td>\n",
       "      <td>vehicle</td>\n",
       "      <td>1540</td>\n",
       "      <td>488</td>\n",
       "      <td>1680</td>\n",
       "      <td>608</td>\n",
       "    </tr>\n",
       "    <tr>\n",
       "      <th>7</th>\n",
       "      <td>1478019953689774621.jpg</td>\n",
       "      <td>vehicle</td>\n",
       "      <td>1646</td>\n",
       "      <td>498</td>\n",
       "      <td>1848</td>\n",
       "      <td>594</td>\n",
       "    </tr>\n",
       "    <tr>\n",
       "      <th>8</th>\n",
       "      <td>1478019954186238236.jpg</td>\n",
       "      <td>vehicle</td>\n",
       "      <td>662</td>\n",
       "      <td>562</td>\n",
       "      <td>710</td>\n",
       "      <td>616</td>\n",
       "    </tr>\n",
       "    <tr>\n",
       "      <th>9</th>\n",
       "      <td>1478019954186238236.jpg</td>\n",
       "      <td>vehicle</td>\n",
       "      <td>686</td>\n",
       "      <td>576</td>\n",
       "      <td>730</td>\n",
       "      <td>628</td>\n",
       "    </tr>\n",
       "    <tr>\n",
       "      <th>10</th>\n",
       "      <td>1478019954186238236.jpg</td>\n",
       "      <td>vehicle</td>\n",
       "      <td>802</td>\n",
       "      <td>582</td>\n",
       "      <td>856</td>\n",
       "      <td>628</td>\n",
       "    </tr>\n",
       "    <tr>\n",
       "      <th>11</th>\n",
       "      <td>1478019954186238236.jpg</td>\n",
       "      <td>vehicle</td>\n",
       "      <td>1448</td>\n",
       "      <td>474</td>\n",
       "      <td>1722</td>\n",
       "      <td>596</td>\n",
       "    </tr>\n",
       "    <tr>\n",
       "      <th>12</th>\n",
       "      <td>1478019954186238236.jpg</td>\n",
       "      <td>vehicle</td>\n",
       "      <td>1732</td>\n",
       "      <td>498</td>\n",
       "      <td>1918</td>\n",
       "      <td>594</td>\n",
       "    </tr>\n",
       "    <tr>\n",
       "      <th>13</th>\n",
       "      <td>1478019954685370994.jpg</td>\n",
       "      <td>vehicle</td>\n",
       "      <td>640</td>\n",
       "      <td>560</td>\n",
       "      <td>694</td>\n",
       "      <td>614</td>\n",
       "    </tr>\n",
       "    <tr>\n",
       "      <th>14</th>\n",
       "      <td>1478019954685370994.jpg</td>\n",
       "      <td>vehicle</td>\n",
       "      <td>662</td>\n",
       "      <td>576</td>\n",
       "      <td>708</td>\n",
       "      <td>624</td>\n",
       "    </tr>\n",
       "    <tr>\n",
       "      <th>15</th>\n",
       "      <td>1478019954685370994.jpg</td>\n",
       "      <td>vehicle</td>\n",
       "      <td>776</td>\n",
       "      <td>578</td>\n",
       "      <td>830</td>\n",
       "      <td>624</td>\n",
       "    </tr>\n",
       "    <tr>\n",
       "      <th>16</th>\n",
       "      <td>1478019954685370994.jpg</td>\n",
       "      <td>vehicle</td>\n",
       "      <td>1492</td>\n",
       "      <td>472</td>\n",
       "      <td>1830</td>\n",
       "      <td>608</td>\n",
       "    </tr>\n",
       "    <tr>\n",
       "      <th>17</th>\n",
       "      <td>1478019955185244088.jpg</td>\n",
       "      <td>vehicle</td>\n",
       "      <td>618</td>\n",
       "      <td>558</td>\n",
       "      <td>678</td>\n",
       "      <td>614</td>\n",
       "    </tr>\n",
       "    <tr>\n",
       "      <th>18</th>\n",
       "      <td>1478019955185244088.jpg</td>\n",
       "      <td>vehicle</td>\n",
       "      <td>640</td>\n",
       "      <td>578</td>\n",
       "      <td>688</td>\n",
       "      <td>620</td>\n",
       "    </tr>\n",
       "    <tr>\n",
       "      <th>19</th>\n",
       "      <td>1478019955185244088.jpg</td>\n",
       "      <td>vehicle</td>\n",
       "      <td>758</td>\n",
       "      <td>570</td>\n",
       "      <td>812</td>\n",
       "      <td>616</td>\n",
       "    </tr>\n",
       "    <tr>\n",
       "      <th>20</th>\n",
       "      <td>1478019955185244088.jpg</td>\n",
       "      <td>vehicle</td>\n",
       "      <td>1560</td>\n",
       "      <td>456</td>\n",
       "      <td>1916</td>\n",
       "      <td>614</td>\n",
       "    </tr>\n",
       "    <tr>\n",
       "      <th>21</th>\n",
       "      <td>1478019955679801306.jpg</td>\n",
       "      <td>vehicle</td>\n",
       "      <td>594</td>\n",
       "      <td>572</td>\n",
       "      <td>650</td>\n",
       "      <td>624</td>\n",
       "    </tr>\n",
       "    <tr>\n",
       "      <th>22</th>\n",
       "      <td>1478019955679801306.jpg</td>\n",
       "      <td>vehicle</td>\n",
       "      <td>598</td>\n",
       "      <td>554</td>\n",
       "      <td>664</td>\n",
       "      <td>612</td>\n",
       "    </tr>\n",
       "    <tr>\n",
       "      <th>23</th>\n",
       "      <td>1478019955679801306.jpg</td>\n",
       "      <td>vehicle</td>\n",
       "      <td>738</td>\n",
       "      <td>568</td>\n",
       "      <td>792</td>\n",
       "      <td>614</td>\n",
       "    </tr>\n",
       "    <tr>\n",
       "      <th>24</th>\n",
       "      <td>1478019956186247611.jpg</td>\n",
       "      <td>vehicle</td>\n",
       "      <td>550</td>\n",
       "      <td>566</td>\n",
       "      <td>614</td>\n",
       "      <td>630</td>\n",
       "    </tr>\n",
       "    <tr>\n",
       "      <th>25</th>\n",
       "      <td>1478019956186247611.jpg</td>\n",
       "      <td>vehicle</td>\n",
       "      <td>580</td>\n",
       "      <td>550</td>\n",
       "      <td>650</td>\n",
       "      <td>610</td>\n",
       "    </tr>\n",
       "    <tr>\n",
       "      <th>26</th>\n",
       "      <td>1478019956186247611.jpg</td>\n",
       "      <td>vehicle</td>\n",
       "      <td>716</td>\n",
       "      <td>564</td>\n",
       "      <td>770</td>\n",
       "      <td>610</td>\n",
       "    </tr>\n",
       "    <tr>\n",
       "      <th>27</th>\n",
       "      <td>1478019956680248165.jpg</td>\n",
       "      <td>vehicle</td>\n",
       "      <td>494</td>\n",
       "      <td>564</td>\n",
       "      <td>590</td>\n",
       "      <td>648</td>\n",
       "    </tr>\n",
       "    <tr>\n",
       "      <th>28</th>\n",
       "      <td>1478019956680248165.jpg</td>\n",
       "      <td>vehicle</td>\n",
       "      <td>552</td>\n",
       "      <td>552</td>\n",
       "      <td>628</td>\n",
       "      <td>614</td>\n",
       "    </tr>\n",
       "    <tr>\n",
       "      <th>29</th>\n",
       "      <td>1478019956680248165.jpg</td>\n",
       "      <td>vehicle</td>\n",
       "      <td>724</td>\n",
       "      <td>572</td>\n",
       "      <td>772</td>\n",
       "      <td>612</td>\n",
       "    </tr>\n",
       "    <tr>\n",
       "      <th>...</th>\n",
       "      <td>...</td>\n",
       "      <td>...</td>\n",
       "      <td>...</td>\n",
       "      <td>...</td>\n",
       "      <td>...</td>\n",
       "      <td>...</td>\n",
       "    </tr>\n",
       "    <tr>\n",
       "      <th>72034</th>\n",
       "      <td>1479506173994033498.jpg</td>\n",
       "      <td>vehicle</td>\n",
       "      <td>924</td>\n",
       "      <td>564</td>\n",
       "      <td>1000</td>\n",
       "      <td>620</td>\n",
       "    </tr>\n",
       "    <tr>\n",
       "      <th>72035</th>\n",
       "      <td>1479506173994033498.jpg</td>\n",
       "      <td>vehicle</td>\n",
       "      <td>635</td>\n",
       "      <td>564</td>\n",
       "      <td>687</td>\n",
       "      <td>611</td>\n",
       "    </tr>\n",
       "    <tr>\n",
       "      <th>72036</th>\n",
       "      <td>1479506173994033498.jpg</td>\n",
       "      <td>vehicle</td>\n",
       "      <td>812</td>\n",
       "      <td>568</td>\n",
       "      <td>866</td>\n",
       "      <td>608</td>\n",
       "    </tr>\n",
       "    <tr>\n",
       "      <th>72037</th>\n",
       "      <td>1479506173994033498.jpg</td>\n",
       "      <td>vehicle</td>\n",
       "      <td>869</td>\n",
       "      <td>569</td>\n",
       "      <td>937</td>\n",
       "      <td>613</td>\n",
       "    </tr>\n",
       "    <tr>\n",
       "      <th>72038</th>\n",
       "      <td>1479506173994033498.jpg</td>\n",
       "      <td>vehicle</td>\n",
       "      <td>639</td>\n",
       "      <td>575</td>\n",
       "      <td>676</td>\n",
       "      <td>613</td>\n",
       "    </tr>\n",
       "    <tr>\n",
       "      <th>72039</th>\n",
       "      <td>1479506174991516375.jpg</td>\n",
       "      <td>vehicle</td>\n",
       "      <td>1224</td>\n",
       "      <td>550</td>\n",
       "      <td>1455</td>\n",
       "      <td>719</td>\n",
       "    </tr>\n",
       "    <tr>\n",
       "      <th>72040</th>\n",
       "      <td>1479506174991516375.jpg</td>\n",
       "      <td>vehicle</td>\n",
       "      <td>1812</td>\n",
       "      <td>637</td>\n",
       "      <td>1914</td>\n",
       "      <td>907</td>\n",
       "    </tr>\n",
       "    <tr>\n",
       "      <th>72041</th>\n",
       "      <td>1479506174991516375.jpg</td>\n",
       "      <td>vehicle</td>\n",
       "      <td>1030</td>\n",
       "      <td>569</td>\n",
       "      <td>1123</td>\n",
       "      <td>649</td>\n",
       "    </tr>\n",
       "    <tr>\n",
       "      <th>72042</th>\n",
       "      <td>1479506174991516375.jpg</td>\n",
       "      <td>vehicle</td>\n",
       "      <td>0</td>\n",
       "      <td>572</td>\n",
       "      <td>248</td>\n",
       "      <td>857</td>\n",
       "    </tr>\n",
       "    <tr>\n",
       "      <th>72043</th>\n",
       "      <td>1479506174991516375.jpg</td>\n",
       "      <td>vehicle</td>\n",
       "      <td>192</td>\n",
       "      <td>583</td>\n",
       "      <td>440</td>\n",
       "      <td>776</td>\n",
       "    </tr>\n",
       "    <tr>\n",
       "      <th>72044</th>\n",
       "      <td>1479506174991516375.jpg</td>\n",
       "      <td>vehicle</td>\n",
       "      <td>622</td>\n",
       "      <td>584</td>\n",
       "      <td>703</td>\n",
       "      <td>646</td>\n",
       "    </tr>\n",
       "    <tr>\n",
       "      <th>72045</th>\n",
       "      <td>1479506174991516375.jpg</td>\n",
       "      <td>vehicle</td>\n",
       "      <td>907</td>\n",
       "      <td>578</td>\n",
       "      <td>970</td>\n",
       "      <td>619</td>\n",
       "    </tr>\n",
       "    <tr>\n",
       "      <th>72046</th>\n",
       "      <td>1479506174991516375.jpg</td>\n",
       "      <td>vehicle</td>\n",
       "      <td>970</td>\n",
       "      <td>574</td>\n",
       "      <td>1036</td>\n",
       "      <td>625</td>\n",
       "    </tr>\n",
       "    <tr>\n",
       "      <th>72047</th>\n",
       "      <td>1479506174991516375.jpg</td>\n",
       "      <td>vehicle</td>\n",
       "      <td>695</td>\n",
       "      <td>574</td>\n",
       "      <td>748</td>\n",
       "      <td>628</td>\n",
       "    </tr>\n",
       "    <tr>\n",
       "      <th>72048</th>\n",
       "      <td>1479506174991516375.jpg</td>\n",
       "      <td>vehicle</td>\n",
       "      <td>686</td>\n",
       "      <td>584</td>\n",
       "      <td>725</td>\n",
       "      <td>632</td>\n",
       "    </tr>\n",
       "    <tr>\n",
       "      <th>72049</th>\n",
       "      <td>1479506175971257681.jpg</td>\n",
       "      <td>vehicle</td>\n",
       "      <td>1540</td>\n",
       "      <td>515</td>\n",
       "      <td>1918</td>\n",
       "      <td>840</td>\n",
       "    </tr>\n",
       "    <tr>\n",
       "      <th>72050</th>\n",
       "      <td>1479506175971257681.jpg</td>\n",
       "      <td>vehicle</td>\n",
       "      <td>1110</td>\n",
       "      <td>552</td>\n",
       "      <td>1235</td>\n",
       "      <td>658</td>\n",
       "    </tr>\n",
       "    <tr>\n",
       "      <th>72051</th>\n",
       "      <td>1479506175971257681.jpg</td>\n",
       "      <td>vehicle</td>\n",
       "      <td>577</td>\n",
       "      <td>575</td>\n",
       "      <td>677</td>\n",
       "      <td>659</td>\n",
       "    </tr>\n",
       "    <tr>\n",
       "      <th>72052</th>\n",
       "      <td>1479506175971257681.jpg</td>\n",
       "      <td>vehicle</td>\n",
       "      <td>658</td>\n",
       "      <td>573</td>\n",
       "      <td>722</td>\n",
       "      <td>632</td>\n",
       "    </tr>\n",
       "    <tr>\n",
       "      <th>72053</th>\n",
       "      <td>1479506175971257681.jpg</td>\n",
       "      <td>vehicle</td>\n",
       "      <td>1023</td>\n",
       "      <td>558</td>\n",
       "      <td>1104</td>\n",
       "      <td>624</td>\n",
       "    </tr>\n",
       "    <tr>\n",
       "      <th>72054</th>\n",
       "      <td>1479506175971257681.jpg</td>\n",
       "      <td>vehicle</td>\n",
       "      <td>957</td>\n",
       "      <td>566</td>\n",
       "      <td>1029</td>\n",
       "      <td>614</td>\n",
       "    </tr>\n",
       "    <tr>\n",
       "      <th>72055</th>\n",
       "      <td>1479506175971257681.jpg</td>\n",
       "      <td>vehicle</td>\n",
       "      <td>697</td>\n",
       "      <td>562</td>\n",
       "      <td>761</td>\n",
       "      <td>622</td>\n",
       "    </tr>\n",
       "    <tr>\n",
       "      <th>72056</th>\n",
       "      <td>1479506176491553178.jpg</td>\n",
       "      <td>vehicle</td>\n",
       "      <td>1136</td>\n",
       "      <td>550</td>\n",
       "      <td>1296</td>\n",
       "      <td>672</td>\n",
       "    </tr>\n",
       "    <tr>\n",
       "      <th>72057</th>\n",
       "      <td>1479506176491553178.jpg</td>\n",
       "      <td>vehicle</td>\n",
       "      <td>501</td>\n",
       "      <td>570</td>\n",
       "      <td>644</td>\n",
       "      <td>673</td>\n",
       "    </tr>\n",
       "    <tr>\n",
       "      <th>72058</th>\n",
       "      <td>1479506176491553178.jpg</td>\n",
       "      <td>vehicle</td>\n",
       "      <td>610</td>\n",
       "      <td>572</td>\n",
       "      <td>699</td>\n",
       "      <td>644</td>\n",
       "    </tr>\n",
       "    <tr>\n",
       "      <th>72059</th>\n",
       "      <td>1479506176491553178.jpg</td>\n",
       "      <td>vehicle</td>\n",
       "      <td>958</td>\n",
       "      <td>559</td>\n",
       "      <td>1045</td>\n",
       "      <td>621</td>\n",
       "    </tr>\n",
       "    <tr>\n",
       "      <th>72060</th>\n",
       "      <td>1479506176491553178.jpg</td>\n",
       "      <td>vehicle</td>\n",
       "      <td>1038</td>\n",
       "      <td>558</td>\n",
       "      <td>1122</td>\n",
       "      <td>630</td>\n",
       "    </tr>\n",
       "    <tr>\n",
       "      <th>72061</th>\n",
       "      <td>1479506176491553178.jpg</td>\n",
       "      <td>vehicle</td>\n",
       "      <td>667</td>\n",
       "      <td>558</td>\n",
       "      <td>747</td>\n",
       "      <td>626</td>\n",
       "    </tr>\n",
       "    <tr>\n",
       "      <th>72062</th>\n",
       "      <td>1479506176491553178.jpg</td>\n",
       "      <td>vehicle</td>\n",
       "      <td>730</td>\n",
       "      <td>568</td>\n",
       "      <td>818</td>\n",
       "      <td>613</td>\n",
       "    </tr>\n",
       "    <tr>\n",
       "      <th>72063</th>\n",
       "      <td>1479506176491553178.jpg</td>\n",
       "      <td>vehicle</td>\n",
       "      <td>435</td>\n",
       "      <td>551</td>\n",
       "      <td>532</td>\n",
       "      <td>589</td>\n",
       "    </tr>\n",
       "  </tbody>\n",
       "</table>\n",
       "<p>165150 rows × 6 columns</p>\n",
       "</div>"
      ],
      "text/plain": [
       "                      filename    class  xmin  ymin  xmax  ymax\n",
       "0      1478019952686311006.jpg  vehicle   950   574  1004   620\n",
       "1      1478019952686311006.jpg  vehicle  1748   482  1818   744\n",
       "2      1478019953180167674.jpg  vehicle   872   586   926   632\n",
       "3      1478019953689774621.jpg  vehicle   686   566   728   618\n",
       "4      1478019953689774621.jpg  vehicle   716   578   764   622\n",
       "5      1478019953689774621.jpg  vehicle   826   580   880   626\n",
       "6      1478019953689774621.jpg  vehicle  1540   488  1680   608\n",
       "7      1478019953689774621.jpg  vehicle  1646   498  1848   594\n",
       "8      1478019954186238236.jpg  vehicle   662   562   710   616\n",
       "9      1478019954186238236.jpg  vehicle   686   576   730   628\n",
       "10     1478019954186238236.jpg  vehicle   802   582   856   628\n",
       "11     1478019954186238236.jpg  vehicle  1448   474  1722   596\n",
       "12     1478019954186238236.jpg  vehicle  1732   498  1918   594\n",
       "13     1478019954685370994.jpg  vehicle   640   560   694   614\n",
       "14     1478019954685370994.jpg  vehicle   662   576   708   624\n",
       "15     1478019954685370994.jpg  vehicle   776   578   830   624\n",
       "16     1478019954685370994.jpg  vehicle  1492   472  1830   608\n",
       "17     1478019955185244088.jpg  vehicle   618   558   678   614\n",
       "18     1478019955185244088.jpg  vehicle   640   578   688   620\n",
       "19     1478019955185244088.jpg  vehicle   758   570   812   616\n",
       "20     1478019955185244088.jpg  vehicle  1560   456  1916   614\n",
       "21     1478019955679801306.jpg  vehicle   594   572   650   624\n",
       "22     1478019955679801306.jpg  vehicle   598   554   664   612\n",
       "23     1478019955679801306.jpg  vehicle   738   568   792   614\n",
       "24     1478019956186247611.jpg  vehicle   550   566   614   630\n",
       "25     1478019956186247611.jpg  vehicle   580   550   650   610\n",
       "26     1478019956186247611.jpg  vehicle   716   564   770   610\n",
       "27     1478019956680248165.jpg  vehicle   494   564   590   648\n",
       "28     1478019956680248165.jpg  vehicle   552   552   628   614\n",
       "29     1478019956680248165.jpg  vehicle   724   572   772   612\n",
       "...                        ...      ...   ...   ...   ...   ...\n",
       "72034  1479506173994033498.jpg  vehicle   924   564  1000   620\n",
       "72035  1479506173994033498.jpg  vehicle   635   564   687   611\n",
       "72036  1479506173994033498.jpg  vehicle   812   568   866   608\n",
       "72037  1479506173994033498.jpg  vehicle   869   569   937   613\n",
       "72038  1479506173994033498.jpg  vehicle   639   575   676   613\n",
       "72039  1479506174991516375.jpg  vehicle  1224   550  1455   719\n",
       "72040  1479506174991516375.jpg  vehicle  1812   637  1914   907\n",
       "72041  1479506174991516375.jpg  vehicle  1030   569  1123   649\n",
       "72042  1479506174991516375.jpg  vehicle     0   572   248   857\n",
       "72043  1479506174991516375.jpg  vehicle   192   583   440   776\n",
       "72044  1479506174991516375.jpg  vehicle   622   584   703   646\n",
       "72045  1479506174991516375.jpg  vehicle   907   578   970   619\n",
       "72046  1479506174991516375.jpg  vehicle   970   574  1036   625\n",
       "72047  1479506174991516375.jpg  vehicle   695   574   748   628\n",
       "72048  1479506174991516375.jpg  vehicle   686   584   725   632\n",
       "72049  1479506175971257681.jpg  vehicle  1540   515  1918   840\n",
       "72050  1479506175971257681.jpg  vehicle  1110   552  1235   658\n",
       "72051  1479506175971257681.jpg  vehicle   577   575   677   659\n",
       "72052  1479506175971257681.jpg  vehicle   658   573   722   632\n",
       "72053  1479506175971257681.jpg  vehicle  1023   558  1104   624\n",
       "72054  1479506175971257681.jpg  vehicle   957   566  1029   614\n",
       "72055  1479506175971257681.jpg  vehicle   697   562   761   622\n",
       "72056  1479506176491553178.jpg  vehicle  1136   550  1296   672\n",
       "72057  1479506176491553178.jpg  vehicle   501   570   644   673\n",
       "72058  1479506176491553178.jpg  vehicle   610   572   699   644\n",
       "72059  1479506176491553178.jpg  vehicle   958   559  1045   621\n",
       "72060  1479506176491553178.jpg  vehicle  1038   558  1122   630\n",
       "72061  1479506176491553178.jpg  vehicle   667   558   747   626\n",
       "72062  1479506176491553178.jpg  vehicle   730   568   818   613\n",
       "72063  1479506176491553178.jpg  vehicle   435   551   532   589\n",
       "\n",
       "[165150 rows x 6 columns]"
      ]
     },
     "execution_count": 64,
     "metadata": {},
     "output_type": "execute_result"
    }
   ],
   "source": [
    "df2"
   ]
  },
  {
   "cell_type": "code",
   "execution_count": null,
   "metadata": {},
   "outputs": [],
   "source": [
    "167650"
   ]
  },
  {
   "cell_type": "code",
   "execution_count": 6,
   "metadata": {
    "ExecuteTime": {
     "end_time": "2018-05-03T01:29:55.243663Z",
     "start_time": "2018-05-03T01:29:55.081601Z"
    }
   },
   "outputs": [],
   "source": [
    "data = pd.concat([pd.read_csv('data_detection/train_label.csv'),pd.read_csv('data_detection/val_label.csv')]).drop('Unnamed: 0',1)"
   ]
  },
  {
   "cell_type": "code",
   "execution_count": 32,
   "metadata": {
    "ExecuteTime": {
     "end_time": "2018-05-03T01:34:01.773963Z",
     "start_time": "2018-05-03T01:34:01.764618Z"
    }
   },
   "outputs": [
    {
     "data": {
      "text/html": [
       "<div>\n",
       "<style scoped>\n",
       "    .dataframe tbody tr th:only-of-type {\n",
       "        vertical-align: middle;\n",
       "    }\n",
       "\n",
       "    .dataframe tbody tr th {\n",
       "        vertical-align: top;\n",
       "    }\n",
       "\n",
       "    .dataframe thead th {\n",
       "        text-align: right;\n",
       "    }\n",
       "</style>\n",
       "<table border=\"1\" class=\"dataframe\">\n",
       "  <thead>\n",
       "    <tr style=\"text-align: right;\">\n",
       "      <th></th>\n",
       "      <th>filename</th>\n",
       "      <th>width</th>\n",
       "      <th>height</th>\n",
       "      <th>class</th>\n",
       "      <th>xmin</th>\n",
       "      <th>ymin</th>\n",
       "      <th>xmax</th>\n",
       "      <th>ymax</th>\n",
       "    </tr>\n",
       "  </thead>\n",
       "  <tbody>\n",
       "  </tbody>\n",
       "</table>\n",
       "</div>"
      ],
      "text/plain": [
       "Empty DataFrame\n",
       "Columns: [filename, width, height, class, xmin, ymin, xmax, ymax]\n",
       "Index: []"
      ]
     },
     "execution_count": 32,
     "metadata": {},
     "output_type": "execute_result"
    }
   ],
   "source": [
    "data[data.ymax/data.height>1]"
   ]
  },
  {
   "cell_type": "code",
   "execution_count": 34,
   "metadata": {
    "ExecuteTime": {
     "end_time": "2018-05-03T01:38:30.627051Z",
     "start_time": "2018-05-03T01:38:30.601982Z"
    }
   },
   "outputs": [],
   "source": [
    "data = data[((data.xmin/data.width)>0)&((data.xmin/data.width)<1)&((data.xmax/data.width)>0)&((data.xmax/data.width)<1)&((data.ymin/data.height)>0)&((data.ymin/data.height)<1)&((data.ymax/data.height)>0)&((data.ymax/data.height)<1)]"
   ]
  },
  {
   "cell_type": "code",
   "execution_count": 10,
   "metadata": {
    "ExecuteTime": {
     "end_time": "2018-05-03T01:14:18.277455Z",
     "start_time": "2018-05-03T01:14:18.271391Z"
    }
   },
   "outputs": [],
   "source": [
    "val = data.sample(20)"
   ]
  },
  {
   "cell_type": "code",
   "execution_count": 11,
   "metadata": {
    "ExecuteTime": {
     "end_time": "2018-05-03T01:14:46.431950Z",
     "start_time": "2018-05-03T01:14:46.413539Z"
    }
   },
   "outputs": [],
   "source": [
    "train = data[~data['filename'].isin(val.filename)]"
   ]
  },
  {
   "cell_type": "code",
   "execution_count": 13,
   "metadata": {
    "ExecuteTime": {
     "end_time": "2018-05-03T01:15:00.686689Z",
     "start_time": "2018-05-03T01:14:59.943188Z"
    }
   },
   "outputs": [],
   "source": [
    "train.to_csv('train_label.csv')"
   ]
  },
  {
   "cell_type": "code",
   "execution_count": 14,
   "metadata": {
    "ExecuteTime": {
     "end_time": "2018-05-03T01:15:08.764660Z",
     "start_time": "2018-05-03T01:15:08.759331Z"
    }
   },
   "outputs": [],
   "source": [
    "val.to_csv('val_label.csv')"
   ]
  },
  {
   "cell_type": "code",
   "execution_count": 39,
   "metadata": {
    "ExecuteTime": {
     "end_time": "2018-05-03T01:44:09.666419Z",
     "start_time": "2018-05-03T01:40:52.352785Z"
    }
   },
   "outputs": [],
   "source": [
    "for i in glob.glob('images/*.jpg'):\n",
    "    if i not in data.filename.unique():\n",
    "        os.remove(i)"
   ]
  },
  {
   "cell_type": "code",
   "execution_count": 41,
   "metadata": {
    "ExecuteTime": {
     "end_time": "2018-05-03T01:45:51.496061Z",
     "start_time": "2018-05-03T01:45:51.489148Z"
    }
   },
   "outputs": [],
   "source": [
    "data.sample(20).to_csv('valval.csv')"
   ]
  },
  {
   "cell_type": "code",
   "execution_count": 42,
   "metadata": {
    "ExecuteTime": {
     "end_time": "2018-05-03T01:46:07.207624Z",
     "start_time": "2018-05-03T01:46:06.480543Z"
    }
   },
   "outputs": [],
   "source": [
    "data.to_csv('trtr.csv')"
   ]
  },
  {
   "cell_type": "code",
   "execution_count": 51,
   "metadata": {
    "ExecuteTime": {
     "end_time": "2018-05-03T01:52:26.309894Z",
     "start_time": "2018-05-03T01:52:26.215527Z"
    }
   },
   "outputs": [],
   "source": [
    "a = pd.read_csv('data_detection/object-dataset/labels.csv',sep='\\s+',skipinitialspace=True).rename(columns={'label':'Label'})"
   ]
  },
  {
   "cell_type": "code",
   "execution_count": 53,
   "metadata": {
    "ExecuteTime": {
     "end_time": "2018-05-03T01:52:41.037952Z",
     "start_time": "2018-05-03T01:52:40.937160Z"
    }
   },
   "outputs": [],
   "source": [
    "b = pd.read_csv('data_detection/labels_crowdai.csv').rename(columns = {'Frame':'filename'})"
   ]
  },
  {
   "cell_type": "code",
   "execution_count": 57,
   "metadata": {
    "ExecuteTime": {
     "end_time": "2018-05-03T01:53:17.752405Z",
     "start_time": "2018-05-03T01:53:17.713402Z"
    }
   },
   "outputs": [],
   "source": [
    "data = pd.concat([a,b])[['filename','Label','xmin','xmax','ymin','ymax']]"
   ]
  },
  {
   "cell_type": "code",
   "execution_count": null,
   "metadata": {},
   "outputs": [],
   "source": [
    "Image"
   ]
  },
  {
   "cell_type": "code",
   "execution_count": 79,
   "metadata": {
    "ExecuteTime": {
     "end_time": "2018-05-03T02:04:34.255372Z",
     "start_time": "2018-05-03T02:04:34.246320Z"
    }
   },
   "outputs": [
    {
     "data": {
      "text/plain": [
       "array(['car', 'pedestrian', 'truck', 'trafficLight', 'biker'],\n",
       "      dtype=object)"
      ]
     },
     "execution_count": 79,
     "metadata": {},
     "output_type": "execute_result"
    }
   ],
   "source": [
    "data.Label.unique()"
   ]
  },
  {
   "cell_type": "code",
   "execution_count": 64,
   "metadata": {
    "ExecuteTime": {
     "end_time": "2018-05-03T02:00:00.812728Z",
     "start_time": "2018-05-03T02:00:00.730159Z"
    }
   },
   "outputs": [],
   "source": [
    "data.loc[data.Label == 'Car','Label'] = 'car'"
   ]
  },
  {
   "cell_type": "code",
   "execution_count": 67,
   "metadata": {
    "ExecuteTime": {
     "end_time": "2018-05-03T02:00:17.567749Z",
     "start_time": "2018-05-03T02:00:17.547872Z"
    }
   },
   "outputs": [],
   "source": [
    "data.loc[data.Label == 'Truck','Label'] = 'truck'"
   ]
  },
  {
   "cell_type": "code",
   "execution_count": 69,
   "metadata": {
    "ExecuteTime": {
     "end_time": "2018-05-03T02:00:38.017606Z",
     "start_time": "2018-05-03T02:00:37.997983Z"
    }
   },
   "outputs": [],
   "source": [
    "data.loc[data.Label == 'Pedestrian','Label'] = 'pedestrian'"
   ]
  },
  {
   "cell_type": "code",
   "execution_count": 73,
   "metadata": {
    "ExecuteTime": {
     "end_time": "2018-05-03T02:02:51.465478Z",
     "start_time": "2018-05-03T02:02:51.155952Z"
    }
   },
   "outputs": [],
   "source": [
    "for i in glob.glob('data_detection/**/*.jpg'):\n",
    "    shutil.move(i,'/home/paperspace/Vehicle_Count/images/'+i.split('/')[-1])"
   ]
  },
  {
   "cell_type": "code",
   "execution_count": 83,
   "metadata": {
    "ExecuteTime": {
     "end_time": "2018-05-03T02:06:37.677795Z",
     "start_time": "2018-05-03T02:06:37.672898Z"
    }
   },
   "outputs": [],
   "source": [
    "data.insert(0,'width',0)\n",
    "data.insert(1,'height',0)"
   ]
  },
  {
   "cell_type": "code",
   "execution_count": 85,
   "metadata": {
    "ExecuteTime": {
     "end_time": "2018-05-03T02:08:12.741801Z",
     "start_time": "2018-05-03T02:08:12.738246Z"
    }
   },
   "outputs": [],
   "source": [
    "img = Image.open('./images/'+'1478019952686311006.jpg')"
   ]
  },
  {
   "cell_type": "code",
   "execution_count": 95,
   "metadata": {
    "ExecuteTime": {
     "end_time": "2018-05-03T02:22:22.323692Z",
     "start_time": "2018-05-03T02:22:22.288935Z"
    }
   },
   "outputs": [],
   "source": [
    "bb = data[((data.xmin/data.width)>0)&((data.xmin/data.width)<1)&((data.xmax/data.width)>0)&((data.xmax/data.width)<1)&((data.ymin/data.height)>0)&((data.ymin/data.height)<1)&((data.ymax/data.height)>0)&((data.ymax/data.height)<1)].copy()"
   ]
  },
  {
   "cell_type": "code",
   "execution_count": 98,
   "metadata": {
    "ExecuteTime": {
     "end_time": "2018-05-03T02:22:43.628749Z",
     "start_time": "2018-05-03T02:22:42.569562Z"
    }
   },
   "outputs": [],
   "source": [
    "bb.to_csv('train_labels.csv')"
   ]
  },
  {
   "cell_type": "code",
   "execution_count": 99,
   "metadata": {
    "ExecuteTime": {
     "end_time": "2018-05-03T02:22:57.427674Z",
     "start_time": "2018-05-03T02:22:57.417840Z"
    }
   },
   "outputs": [],
   "source": [
    "bb.sample(20).to_csv('val_labels.csv')"
   ]
  },
  {
   "cell_type": "code",
   "execution_count": 93,
   "metadata": {
    "ExecuteTime": {
     "end_time": "2018-05-03T02:22:08.610788Z",
     "start_time": "2018-05-03T02:22:08.606251Z"
    }
   },
   "outputs": [
    {
     "data": {
      "text/plain": [
       "(165150, 8)"
      ]
     },
     "execution_count": 93,
     "metadata": {},
     "output_type": "execute_result"
    }
   ],
   "source": [
    "data.shape"
   ]
  },
  {
   "cell_type": "code",
   "execution_count": 91,
   "metadata": {
    "ExecuteTime": {
     "end_time": "2018-05-03T02:21:55.083940Z",
     "start_time": "2018-05-03T02:09:19.428909Z"
    },
    "scrolled": true
   },
   "outputs": [
    {
     "name": "stdout",
     "output_type": "stream",
     "text": [
      "0/22281\n",
      "100/22281\n",
      "200/22281\n",
      "300/22281\n",
      "400/22281\n",
      "500/22281\n",
      "600/22281\n",
      "700/22281\n",
      "800/22281\n",
      "900/22281\n",
      "1000/22281\n",
      "1100/22281\n",
      "1200/22281\n",
      "1300/22281\n",
      "1400/22281\n",
      "1500/22281\n",
      "1600/22281\n",
      "1700/22281\n",
      "1800/22281\n",
      "1900/22281\n",
      "2000/22281\n",
      "2100/22281\n",
      "2200/22281\n",
      "2300/22281\n",
      "2400/22281\n",
      "2500/22281\n",
      "2600/22281\n",
      "2700/22281\n",
      "2800/22281\n",
      "2900/22281\n",
      "3000/22281\n",
      "3100/22281\n",
      "3200/22281\n",
      "3300/22281\n",
      "3400/22281\n",
      "3500/22281\n",
      "3600/22281\n",
      "3700/22281\n",
      "3800/22281\n",
      "3900/22281\n",
      "4000/22281\n",
      "4100/22281\n",
      "4200/22281\n",
      "4300/22281\n",
      "4400/22281\n",
      "4500/22281\n",
      "4600/22281\n",
      "4700/22281\n",
      "4800/22281\n",
      "4900/22281\n",
      "5000/22281\n",
      "5100/22281\n",
      "5200/22281\n",
      "5300/22281\n",
      "5400/22281\n",
      "5500/22281\n",
      "5600/22281\n",
      "5700/22281\n",
      "5800/22281\n",
      "5900/22281\n",
      "6000/22281\n",
      "6100/22281\n",
      "6200/22281\n",
      "6300/22281\n",
      "6400/22281\n",
      "6500/22281\n",
      "6600/22281\n",
      "6700/22281\n",
      "6800/22281\n",
      "6900/22281\n",
      "7000/22281\n",
      "7100/22281\n",
      "7200/22281\n",
      "7300/22281\n",
      "7400/22281\n",
      "7500/22281\n",
      "7600/22281\n",
      "7700/22281\n",
      "7800/22281\n",
      "7900/22281\n",
      "8000/22281\n",
      "8100/22281\n",
      "8200/22281\n",
      "8300/22281\n",
      "8400/22281\n",
      "8500/22281\n",
      "8600/22281\n",
      "8700/22281\n",
      "8800/22281\n",
      "8900/22281\n",
      "9000/22281\n",
      "9100/22281\n",
      "9200/22281\n",
      "9300/22281\n",
      "9400/22281\n",
      "9500/22281\n",
      "9600/22281\n",
      "9700/22281\n",
      "9800/22281\n",
      "9900/22281\n",
      "10000/22281\n",
      "10100/22281\n",
      "10200/22281\n",
      "10300/22281\n",
      "10400/22281\n",
      "10500/22281\n",
      "10600/22281\n",
      "10700/22281\n",
      "10800/22281\n",
      "10900/22281\n",
      "11000/22281\n",
      "11100/22281\n",
      "11200/22281\n",
      "11300/22281\n",
      "11400/22281\n",
      "11500/22281\n",
      "11600/22281\n",
      "11700/22281\n",
      "11800/22281\n",
      "11900/22281\n",
      "12000/22281\n",
      "12100/22281\n",
      "12200/22281\n",
      "12300/22281\n",
      "12400/22281\n",
      "12500/22281\n",
      "12600/22281\n",
      "12700/22281\n",
      "12800/22281\n",
      "12900/22281\n",
      "13000/22281\n",
      "13100/22281\n",
      "13200/22281\n",
      "13300/22281\n",
      "13400/22281\n",
      "13500/22281\n",
      "13600/22281\n",
      "13700/22281\n",
      "13800/22281\n",
      "13900/22281\n",
      "14000/22281\n",
      "14100/22281\n",
      "14200/22281\n",
      "14300/22281\n",
      "14400/22281\n",
      "14500/22281\n",
      "14600/22281\n",
      "14700/22281\n",
      "14800/22281\n",
      "14900/22281\n",
      "15000/22281\n",
      "15100/22281\n",
      "15200/22281\n",
      "15300/22281\n",
      "15400/22281\n",
      "15500/22281\n",
      "15600/22281\n",
      "15700/22281\n",
      "15800/22281\n",
      "15900/22281\n",
      "16000/22281\n",
      "16100/22281\n",
      "16200/22281\n",
      "16300/22281\n",
      "16400/22281\n",
      "16500/22281\n",
      "16600/22281\n",
      "16700/22281\n",
      "16800/22281\n",
      "16900/22281\n",
      "17000/22281\n",
      "17100/22281\n",
      "17200/22281\n",
      "17300/22281\n",
      "17400/22281\n",
      "17500/22281\n",
      "17600/22281\n",
      "17700/22281\n",
      "17800/22281\n",
      "17900/22281\n",
      "18000/22281\n",
      "18100/22281\n",
      "18200/22281\n",
      "18300/22281\n",
      "18400/22281\n",
      "18500/22281\n",
      "18600/22281\n",
      "18700/22281\n",
      "18800/22281\n",
      "18900/22281\n",
      "19000/22281\n",
      "19100/22281\n",
      "19200/22281\n",
      "19300/22281\n",
      "19400/22281\n",
      "19500/22281\n",
      "19600/22281\n",
      "19700/22281\n",
      "19800/22281\n",
      "19900/22281\n",
      "20000/22281\n",
      "20100/22281\n",
      "20200/22281\n",
      "20300/22281\n",
      "20400/22281\n",
      "20500/22281\n",
      "20600/22281\n",
      "20700/22281\n",
      "20800/22281\n",
      "20900/22281\n",
      "21000/22281\n",
      "21100/22281\n",
      "21200/22281\n",
      "21300/22281\n",
      "21400/22281\n",
      "21500/22281\n",
      "21600/22281\n",
      "21700/22281\n",
      "21800/22281\n",
      "21900/22281\n",
      "22000/22281\n",
      "22100/22281\n",
      "22200/22281\n"
     ]
    }
   ],
   "source": [
    "j = 0\n",
    "for i in data.filename.unique():\n",
    "    img = Image.open('./images/'+i)\n",
    "    width, height = img.size\n",
    "    data.loc[data.filename == i,'width'] = width\n",
    "    data.loc[data.filename == i,'height']  = height\n",
    "    if j % 100 == 0 :\n",
    "        print('{}/{}'.format(j,22281))\n",
    "    j += 1"
   ]
  },
  {
   "cell_type": "code",
   "execution_count": 81,
   "metadata": {
    "ExecuteTime": {
     "end_time": "2018-05-03T02:05:05.297250Z",
     "start_time": "2018-05-03T02:05:05.284471Z"
    },
    "scrolled": true
   },
   "outputs": [],
   "source": [
    "data = data.rename(columns = {'Label':'class'})"
   ]
  },
  {
   "cell_type": "code",
   "execution_count": 82,
   "metadata": {
    "ExecuteTime": {
     "end_time": "2018-05-03T02:05:06.575247Z",
     "start_time": "2018-05-03T02:05:06.551754Z"
    }
   },
   "outputs": [
    {
     "data": {
      "text/html": [
       "<div>\n",
       "<style scoped>\n",
       "    .dataframe tbody tr th:only-of-type {\n",
       "        vertical-align: middle;\n",
       "    }\n",
       "\n",
       "    .dataframe tbody tr th {\n",
       "        vertical-align: top;\n",
       "    }\n",
       "\n",
       "    .dataframe thead th {\n",
       "        text-align: right;\n",
       "    }\n",
       "</style>\n",
       "<table border=\"1\" class=\"dataframe\">\n",
       "  <thead>\n",
       "    <tr style=\"text-align: right;\">\n",
       "      <th></th>\n",
       "      <th>filename</th>\n",
       "      <th>class</th>\n",
       "      <th>xmin</th>\n",
       "      <th>xmax</th>\n",
       "      <th>ymin</th>\n",
       "      <th>ymax</th>\n",
       "    </tr>\n",
       "  </thead>\n",
       "  <tbody>\n",
       "    <tr>\n",
       "      <th>0</th>\n",
       "      <td>1478019952686311006.jpg</td>\n",
       "      <td>car</td>\n",
       "      <td>950</td>\n",
       "      <td>1004</td>\n",
       "      <td>574</td>\n",
       "      <td>620</td>\n",
       "    </tr>\n",
       "    <tr>\n",
       "      <th>1</th>\n",
       "      <td>1478019952686311006.jpg</td>\n",
       "      <td>pedestrian</td>\n",
       "      <td>1748</td>\n",
       "      <td>1818</td>\n",
       "      <td>482</td>\n",
       "      <td>744</td>\n",
       "    </tr>\n",
       "    <tr>\n",
       "      <th>2</th>\n",
       "      <td>1478019953180167674.jpg</td>\n",
       "      <td>car</td>\n",
       "      <td>872</td>\n",
       "      <td>926</td>\n",
       "      <td>586</td>\n",
       "      <td>632</td>\n",
       "    </tr>\n",
       "    <tr>\n",
       "      <th>3</th>\n",
       "      <td>1478019953689774621.jpg</td>\n",
       "      <td>truck</td>\n",
       "      <td>686</td>\n",
       "      <td>728</td>\n",
       "      <td>566</td>\n",
       "      <td>618</td>\n",
       "    </tr>\n",
       "    <tr>\n",
       "      <th>4</th>\n",
       "      <td>1478019953689774621.jpg</td>\n",
       "      <td>car</td>\n",
       "      <td>716</td>\n",
       "      <td>764</td>\n",
       "      <td>578</td>\n",
       "      <td>622</td>\n",
       "    </tr>\n",
       "    <tr>\n",
       "      <th>5</th>\n",
       "      <td>1478019953689774621.jpg</td>\n",
       "      <td>car</td>\n",
       "      <td>826</td>\n",
       "      <td>880</td>\n",
       "      <td>580</td>\n",
       "      <td>626</td>\n",
       "    </tr>\n",
       "    <tr>\n",
       "      <th>6</th>\n",
       "      <td>1478019953689774621.jpg</td>\n",
       "      <td>car</td>\n",
       "      <td>1540</td>\n",
       "      <td>1680</td>\n",
       "      <td>488</td>\n",
       "      <td>608</td>\n",
       "    </tr>\n",
       "    <tr>\n",
       "      <th>7</th>\n",
       "      <td>1478019953689774621.jpg</td>\n",
       "      <td>car</td>\n",
       "      <td>1646</td>\n",
       "      <td>1848</td>\n",
       "      <td>498</td>\n",
       "      <td>594</td>\n",
       "    </tr>\n",
       "    <tr>\n",
       "      <th>8</th>\n",
       "      <td>1478019954186238236.jpg</td>\n",
       "      <td>truck</td>\n",
       "      <td>662</td>\n",
       "      <td>710</td>\n",
       "      <td>562</td>\n",
       "      <td>616</td>\n",
       "    </tr>\n",
       "    <tr>\n",
       "      <th>9</th>\n",
       "      <td>1478019954186238236.jpg</td>\n",
       "      <td>car</td>\n",
       "      <td>686</td>\n",
       "      <td>730</td>\n",
       "      <td>576</td>\n",
       "      <td>628</td>\n",
       "    </tr>\n",
       "    <tr>\n",
       "      <th>10</th>\n",
       "      <td>1478019954186238236.jpg</td>\n",
       "      <td>car</td>\n",
       "      <td>802</td>\n",
       "      <td>856</td>\n",
       "      <td>582</td>\n",
       "      <td>628</td>\n",
       "    </tr>\n",
       "    <tr>\n",
       "      <th>11</th>\n",
       "      <td>1478019954186238236.jpg</td>\n",
       "      <td>car</td>\n",
       "      <td>1448</td>\n",
       "      <td>1722</td>\n",
       "      <td>474</td>\n",
       "      <td>596</td>\n",
       "    </tr>\n",
       "    <tr>\n",
       "      <th>12</th>\n",
       "      <td>1478019954186238236.jpg</td>\n",
       "      <td>car</td>\n",
       "      <td>1732</td>\n",
       "      <td>1918</td>\n",
       "      <td>498</td>\n",
       "      <td>594</td>\n",
       "    </tr>\n",
       "    <tr>\n",
       "      <th>13</th>\n",
       "      <td>1478019954685370994.jpg</td>\n",
       "      <td>truck</td>\n",
       "      <td>640</td>\n",
       "      <td>694</td>\n",
       "      <td>560</td>\n",
       "      <td>614</td>\n",
       "    </tr>\n",
       "    <tr>\n",
       "      <th>14</th>\n",
       "      <td>1478019954685370994.jpg</td>\n",
       "      <td>car</td>\n",
       "      <td>662</td>\n",
       "      <td>708</td>\n",
       "      <td>576</td>\n",
       "      <td>624</td>\n",
       "    </tr>\n",
       "    <tr>\n",
       "      <th>15</th>\n",
       "      <td>1478019954685370994.jpg</td>\n",
       "      <td>car</td>\n",
       "      <td>776</td>\n",
       "      <td>830</td>\n",
       "      <td>578</td>\n",
       "      <td>624</td>\n",
       "    </tr>\n",
       "    <tr>\n",
       "      <th>16</th>\n",
       "      <td>1478019954685370994.jpg</td>\n",
       "      <td>car</td>\n",
       "      <td>1492</td>\n",
       "      <td>1830</td>\n",
       "      <td>472</td>\n",
       "      <td>608</td>\n",
       "    </tr>\n",
       "    <tr>\n",
       "      <th>17</th>\n",
       "      <td>1478019955185244088.jpg</td>\n",
       "      <td>truck</td>\n",
       "      <td>618</td>\n",
       "      <td>678</td>\n",
       "      <td>558</td>\n",
       "      <td>614</td>\n",
       "    </tr>\n",
       "    <tr>\n",
       "      <th>18</th>\n",
       "      <td>1478019955185244088.jpg</td>\n",
       "      <td>car</td>\n",
       "      <td>640</td>\n",
       "      <td>688</td>\n",
       "      <td>578</td>\n",
       "      <td>620</td>\n",
       "    </tr>\n",
       "    <tr>\n",
       "      <th>19</th>\n",
       "      <td>1478019955185244088.jpg</td>\n",
       "      <td>car</td>\n",
       "      <td>758</td>\n",
       "      <td>812</td>\n",
       "      <td>570</td>\n",
       "      <td>616</td>\n",
       "    </tr>\n",
       "    <tr>\n",
       "      <th>20</th>\n",
       "      <td>1478019955185244088.jpg</td>\n",
       "      <td>car</td>\n",
       "      <td>1560</td>\n",
       "      <td>1916</td>\n",
       "      <td>456</td>\n",
       "      <td>614</td>\n",
       "    </tr>\n",
       "    <tr>\n",
       "      <th>21</th>\n",
       "      <td>1478019955679801306.jpg</td>\n",
       "      <td>car</td>\n",
       "      <td>594</td>\n",
       "      <td>650</td>\n",
       "      <td>572</td>\n",
       "      <td>624</td>\n",
       "    </tr>\n",
       "    <tr>\n",
       "      <th>22</th>\n",
       "      <td>1478019955679801306.jpg</td>\n",
       "      <td>truck</td>\n",
       "      <td>598</td>\n",
       "      <td>664</td>\n",
       "      <td>554</td>\n",
       "      <td>612</td>\n",
       "    </tr>\n",
       "    <tr>\n",
       "      <th>23</th>\n",
       "      <td>1478019955679801306.jpg</td>\n",
       "      <td>car</td>\n",
       "      <td>738</td>\n",
       "      <td>792</td>\n",
       "      <td>568</td>\n",
       "      <td>614</td>\n",
       "    </tr>\n",
       "    <tr>\n",
       "      <th>24</th>\n",
       "      <td>1478019956186247611.jpg</td>\n",
       "      <td>car</td>\n",
       "      <td>550</td>\n",
       "      <td>614</td>\n",
       "      <td>566</td>\n",
       "      <td>630</td>\n",
       "    </tr>\n",
       "    <tr>\n",
       "      <th>25</th>\n",
       "      <td>1478019956186247611.jpg</td>\n",
       "      <td>truck</td>\n",
       "      <td>580</td>\n",
       "      <td>650</td>\n",
       "      <td>550</td>\n",
       "      <td>610</td>\n",
       "    </tr>\n",
       "    <tr>\n",
       "      <th>26</th>\n",
       "      <td>1478019956186247611.jpg</td>\n",
       "      <td>car</td>\n",
       "      <td>716</td>\n",
       "      <td>770</td>\n",
       "      <td>564</td>\n",
       "      <td>610</td>\n",
       "    </tr>\n",
       "    <tr>\n",
       "      <th>27</th>\n",
       "      <td>1478019956680248165.jpg</td>\n",
       "      <td>car</td>\n",
       "      <td>494</td>\n",
       "      <td>590</td>\n",
       "      <td>564</td>\n",
       "      <td>648</td>\n",
       "    </tr>\n",
       "    <tr>\n",
       "      <th>28</th>\n",
       "      <td>1478019956680248165.jpg</td>\n",
       "      <td>truck</td>\n",
       "      <td>552</td>\n",
       "      <td>628</td>\n",
       "      <td>552</td>\n",
       "      <td>614</td>\n",
       "    </tr>\n",
       "    <tr>\n",
       "      <th>29</th>\n",
       "      <td>1478019956680248165.jpg</td>\n",
       "      <td>car</td>\n",
       "      <td>724</td>\n",
       "      <td>772</td>\n",
       "      <td>572</td>\n",
       "      <td>612</td>\n",
       "    </tr>\n",
       "    <tr>\n",
       "      <th>...</th>\n",
       "      <td>...</td>\n",
       "      <td>...</td>\n",
       "      <td>...</td>\n",
       "      <td>...</td>\n",
       "      <td>...</td>\n",
       "      <td>...</td>\n",
       "    </tr>\n",
       "    <tr>\n",
       "      <th>72034</th>\n",
       "      <td>1479506173994033498.jpg</td>\n",
       "      <td>car</td>\n",
       "      <td>924</td>\n",
       "      <td>1000</td>\n",
       "      <td>564</td>\n",
       "      <td>620</td>\n",
       "    </tr>\n",
       "    <tr>\n",
       "      <th>72035</th>\n",
       "      <td>1479506173994033498.jpg</td>\n",
       "      <td>car</td>\n",
       "      <td>635</td>\n",
       "      <td>687</td>\n",
       "      <td>564</td>\n",
       "      <td>611</td>\n",
       "    </tr>\n",
       "    <tr>\n",
       "      <th>72036</th>\n",
       "      <td>1479506173994033498.jpg</td>\n",
       "      <td>car</td>\n",
       "      <td>812</td>\n",
       "      <td>866</td>\n",
       "      <td>568</td>\n",
       "      <td>608</td>\n",
       "    </tr>\n",
       "    <tr>\n",
       "      <th>72037</th>\n",
       "      <td>1479506173994033498.jpg</td>\n",
       "      <td>car</td>\n",
       "      <td>869</td>\n",
       "      <td>937</td>\n",
       "      <td>569</td>\n",
       "      <td>613</td>\n",
       "    </tr>\n",
       "    <tr>\n",
       "      <th>72038</th>\n",
       "      <td>1479506173994033498.jpg</td>\n",
       "      <td>car</td>\n",
       "      <td>639</td>\n",
       "      <td>676</td>\n",
       "      <td>575</td>\n",
       "      <td>613</td>\n",
       "    </tr>\n",
       "    <tr>\n",
       "      <th>72039</th>\n",
       "      <td>1479506174991516375.jpg</td>\n",
       "      <td>car</td>\n",
       "      <td>1224</td>\n",
       "      <td>1455</td>\n",
       "      <td>550</td>\n",
       "      <td>719</td>\n",
       "    </tr>\n",
       "    <tr>\n",
       "      <th>72040</th>\n",
       "      <td>1479506174991516375.jpg</td>\n",
       "      <td>car</td>\n",
       "      <td>1812</td>\n",
       "      <td>1914</td>\n",
       "      <td>637</td>\n",
       "      <td>907</td>\n",
       "    </tr>\n",
       "    <tr>\n",
       "      <th>72041</th>\n",
       "      <td>1479506174991516375.jpg</td>\n",
       "      <td>car</td>\n",
       "      <td>1030</td>\n",
       "      <td>1123</td>\n",
       "      <td>569</td>\n",
       "      <td>649</td>\n",
       "    </tr>\n",
       "    <tr>\n",
       "      <th>72042</th>\n",
       "      <td>1479506174991516375.jpg</td>\n",
       "      <td>car</td>\n",
       "      <td>0</td>\n",
       "      <td>248</td>\n",
       "      <td>572</td>\n",
       "      <td>857</td>\n",
       "    </tr>\n",
       "    <tr>\n",
       "      <th>72043</th>\n",
       "      <td>1479506174991516375.jpg</td>\n",
       "      <td>car</td>\n",
       "      <td>192</td>\n",
       "      <td>440</td>\n",
       "      <td>583</td>\n",
       "      <td>776</td>\n",
       "    </tr>\n",
       "    <tr>\n",
       "      <th>72044</th>\n",
       "      <td>1479506174991516375.jpg</td>\n",
       "      <td>car</td>\n",
       "      <td>622</td>\n",
       "      <td>703</td>\n",
       "      <td>584</td>\n",
       "      <td>646</td>\n",
       "    </tr>\n",
       "    <tr>\n",
       "      <th>72045</th>\n",
       "      <td>1479506174991516375.jpg</td>\n",
       "      <td>car</td>\n",
       "      <td>907</td>\n",
       "      <td>970</td>\n",
       "      <td>578</td>\n",
       "      <td>619</td>\n",
       "    </tr>\n",
       "    <tr>\n",
       "      <th>72046</th>\n",
       "      <td>1479506174991516375.jpg</td>\n",
       "      <td>car</td>\n",
       "      <td>970</td>\n",
       "      <td>1036</td>\n",
       "      <td>574</td>\n",
       "      <td>625</td>\n",
       "    </tr>\n",
       "    <tr>\n",
       "      <th>72047</th>\n",
       "      <td>1479506174991516375.jpg</td>\n",
       "      <td>car</td>\n",
       "      <td>695</td>\n",
       "      <td>748</td>\n",
       "      <td>574</td>\n",
       "      <td>628</td>\n",
       "    </tr>\n",
       "    <tr>\n",
       "      <th>72048</th>\n",
       "      <td>1479506174991516375.jpg</td>\n",
       "      <td>car</td>\n",
       "      <td>686</td>\n",
       "      <td>725</td>\n",
       "      <td>584</td>\n",
       "      <td>632</td>\n",
       "    </tr>\n",
       "    <tr>\n",
       "      <th>72049</th>\n",
       "      <td>1479506175971257681.jpg</td>\n",
       "      <td>car</td>\n",
       "      <td>1540</td>\n",
       "      <td>1918</td>\n",
       "      <td>515</td>\n",
       "      <td>840</td>\n",
       "    </tr>\n",
       "    <tr>\n",
       "      <th>72050</th>\n",
       "      <td>1479506175971257681.jpg</td>\n",
       "      <td>car</td>\n",
       "      <td>1110</td>\n",
       "      <td>1235</td>\n",
       "      <td>552</td>\n",
       "      <td>658</td>\n",
       "    </tr>\n",
       "    <tr>\n",
       "      <th>72051</th>\n",
       "      <td>1479506175971257681.jpg</td>\n",
       "      <td>car</td>\n",
       "      <td>577</td>\n",
       "      <td>677</td>\n",
       "      <td>575</td>\n",
       "      <td>659</td>\n",
       "    </tr>\n",
       "    <tr>\n",
       "      <th>72052</th>\n",
       "      <td>1479506175971257681.jpg</td>\n",
       "      <td>car</td>\n",
       "      <td>658</td>\n",
       "      <td>722</td>\n",
       "      <td>573</td>\n",
       "      <td>632</td>\n",
       "    </tr>\n",
       "    <tr>\n",
       "      <th>72053</th>\n",
       "      <td>1479506175971257681.jpg</td>\n",
       "      <td>car</td>\n",
       "      <td>1023</td>\n",
       "      <td>1104</td>\n",
       "      <td>558</td>\n",
       "      <td>624</td>\n",
       "    </tr>\n",
       "    <tr>\n",
       "      <th>72054</th>\n",
       "      <td>1479506175971257681.jpg</td>\n",
       "      <td>car</td>\n",
       "      <td>957</td>\n",
       "      <td>1029</td>\n",
       "      <td>566</td>\n",
       "      <td>614</td>\n",
       "    </tr>\n",
       "    <tr>\n",
       "      <th>72055</th>\n",
       "      <td>1479506175971257681.jpg</td>\n",
       "      <td>car</td>\n",
       "      <td>697</td>\n",
       "      <td>761</td>\n",
       "      <td>562</td>\n",
       "      <td>622</td>\n",
       "    </tr>\n",
       "    <tr>\n",
       "      <th>72056</th>\n",
       "      <td>1479506176491553178.jpg</td>\n",
       "      <td>car</td>\n",
       "      <td>1136</td>\n",
       "      <td>1296</td>\n",
       "      <td>550</td>\n",
       "      <td>672</td>\n",
       "    </tr>\n",
       "    <tr>\n",
       "      <th>72057</th>\n",
       "      <td>1479506176491553178.jpg</td>\n",
       "      <td>car</td>\n",
       "      <td>501</td>\n",
       "      <td>644</td>\n",
       "      <td>570</td>\n",
       "      <td>673</td>\n",
       "    </tr>\n",
       "    <tr>\n",
       "      <th>72058</th>\n",
       "      <td>1479506176491553178.jpg</td>\n",
       "      <td>car</td>\n",
       "      <td>610</td>\n",
       "      <td>699</td>\n",
       "      <td>572</td>\n",
       "      <td>644</td>\n",
       "    </tr>\n",
       "    <tr>\n",
       "      <th>72059</th>\n",
       "      <td>1479506176491553178.jpg</td>\n",
       "      <td>car</td>\n",
       "      <td>958</td>\n",
       "      <td>1045</td>\n",
       "      <td>559</td>\n",
       "      <td>621</td>\n",
       "    </tr>\n",
       "    <tr>\n",
       "      <th>72060</th>\n",
       "      <td>1479506176491553178.jpg</td>\n",
       "      <td>car</td>\n",
       "      <td>1038</td>\n",
       "      <td>1122</td>\n",
       "      <td>558</td>\n",
       "      <td>630</td>\n",
       "    </tr>\n",
       "    <tr>\n",
       "      <th>72061</th>\n",
       "      <td>1479506176491553178.jpg</td>\n",
       "      <td>car</td>\n",
       "      <td>667</td>\n",
       "      <td>747</td>\n",
       "      <td>558</td>\n",
       "      <td>626</td>\n",
       "    </tr>\n",
       "    <tr>\n",
       "      <th>72062</th>\n",
       "      <td>1479506176491553178.jpg</td>\n",
       "      <td>car</td>\n",
       "      <td>730</td>\n",
       "      <td>818</td>\n",
       "      <td>568</td>\n",
       "      <td>613</td>\n",
       "    </tr>\n",
       "    <tr>\n",
       "      <th>72063</th>\n",
       "      <td>1479506176491553178.jpg</td>\n",
       "      <td>car</td>\n",
       "      <td>435</td>\n",
       "      <td>532</td>\n",
       "      <td>551</td>\n",
       "      <td>589</td>\n",
       "    </tr>\n",
       "  </tbody>\n",
       "</table>\n",
       "<p>165150 rows × 6 columns</p>\n",
       "</div>"
      ],
      "text/plain": [
       "                      filename       class  xmin  xmax  ymin  ymax\n",
       "0      1478019952686311006.jpg         car   950  1004   574   620\n",
       "1      1478019952686311006.jpg  pedestrian  1748  1818   482   744\n",
       "2      1478019953180167674.jpg         car   872   926   586   632\n",
       "3      1478019953689774621.jpg       truck   686   728   566   618\n",
       "4      1478019953689774621.jpg         car   716   764   578   622\n",
       "5      1478019953689774621.jpg         car   826   880   580   626\n",
       "6      1478019953689774621.jpg         car  1540  1680   488   608\n",
       "7      1478019953689774621.jpg         car  1646  1848   498   594\n",
       "8      1478019954186238236.jpg       truck   662   710   562   616\n",
       "9      1478019954186238236.jpg         car   686   730   576   628\n",
       "10     1478019954186238236.jpg         car   802   856   582   628\n",
       "11     1478019954186238236.jpg         car  1448  1722   474   596\n",
       "12     1478019954186238236.jpg         car  1732  1918   498   594\n",
       "13     1478019954685370994.jpg       truck   640   694   560   614\n",
       "14     1478019954685370994.jpg         car   662   708   576   624\n",
       "15     1478019954685370994.jpg         car   776   830   578   624\n",
       "16     1478019954685370994.jpg         car  1492  1830   472   608\n",
       "17     1478019955185244088.jpg       truck   618   678   558   614\n",
       "18     1478019955185244088.jpg         car   640   688   578   620\n",
       "19     1478019955185244088.jpg         car   758   812   570   616\n",
       "20     1478019955185244088.jpg         car  1560  1916   456   614\n",
       "21     1478019955679801306.jpg         car   594   650   572   624\n",
       "22     1478019955679801306.jpg       truck   598   664   554   612\n",
       "23     1478019955679801306.jpg         car   738   792   568   614\n",
       "24     1478019956186247611.jpg         car   550   614   566   630\n",
       "25     1478019956186247611.jpg       truck   580   650   550   610\n",
       "26     1478019956186247611.jpg         car   716   770   564   610\n",
       "27     1478019956680248165.jpg         car   494   590   564   648\n",
       "28     1478019956680248165.jpg       truck   552   628   552   614\n",
       "29     1478019956680248165.jpg         car   724   772   572   612\n",
       "...                        ...         ...   ...   ...   ...   ...\n",
       "72034  1479506173994033498.jpg         car   924  1000   564   620\n",
       "72035  1479506173994033498.jpg         car   635   687   564   611\n",
       "72036  1479506173994033498.jpg         car   812   866   568   608\n",
       "72037  1479506173994033498.jpg         car   869   937   569   613\n",
       "72038  1479506173994033498.jpg         car   639   676   575   613\n",
       "72039  1479506174991516375.jpg         car  1224  1455   550   719\n",
       "72040  1479506174991516375.jpg         car  1812  1914   637   907\n",
       "72041  1479506174991516375.jpg         car  1030  1123   569   649\n",
       "72042  1479506174991516375.jpg         car     0   248   572   857\n",
       "72043  1479506174991516375.jpg         car   192   440   583   776\n",
       "72044  1479506174991516375.jpg         car   622   703   584   646\n",
       "72045  1479506174991516375.jpg         car   907   970   578   619\n",
       "72046  1479506174991516375.jpg         car   970  1036   574   625\n",
       "72047  1479506174991516375.jpg         car   695   748   574   628\n",
       "72048  1479506174991516375.jpg         car   686   725   584   632\n",
       "72049  1479506175971257681.jpg         car  1540  1918   515   840\n",
       "72050  1479506175971257681.jpg         car  1110  1235   552   658\n",
       "72051  1479506175971257681.jpg         car   577   677   575   659\n",
       "72052  1479506175971257681.jpg         car   658   722   573   632\n",
       "72053  1479506175971257681.jpg         car  1023  1104   558   624\n",
       "72054  1479506175971257681.jpg         car   957  1029   566   614\n",
       "72055  1479506175971257681.jpg         car   697   761   562   622\n",
       "72056  1479506176491553178.jpg         car  1136  1296   550   672\n",
       "72057  1479506176491553178.jpg         car   501   644   570   673\n",
       "72058  1479506176491553178.jpg         car   610   699   572   644\n",
       "72059  1479506176491553178.jpg         car   958  1045   559   621\n",
       "72060  1479506176491553178.jpg         car  1038  1122   558   630\n",
       "72061  1479506176491553178.jpg         car   667   747   558   626\n",
       "72062  1479506176491553178.jpg         car   730   818   568   613\n",
       "72063  1479506176491553178.jpg         car   435   532   551   589\n",
       "\n",
       "[165150 rows x 6 columns]"
      ]
     },
     "execution_count": 82,
     "metadata": {},
     "output_type": "execute_result"
    }
   ],
   "source": [
    "data"
   ]
  }
 ],
 "metadata": {
  "kernelspec": {
   "display_name": "Python 3",
   "language": "python",
   "name": "python3"
  },
  "language_info": {
   "codemirror_mode": {
    "name": "ipython",
    "version": 3
   },
   "file_extension": ".py",
   "mimetype": "text/x-python",
   "name": "python",
   "nbconvert_exporter": "python",
   "pygments_lexer": "ipython3",
   "version": "3.6.5"
  },
  "latex_envs": {
   "LaTeX_envs_menu_present": true,
   "autoclose": false,
   "autocomplete": true,
   "bibliofile": "biblio.bib",
   "cite_by": "apalike",
   "current_citInitial": 1,
   "eqLabelWithNumbers": true,
   "eqNumInitial": 1,
   "hotkeys": {
    "equation": "Ctrl-E",
    "itemize": "Ctrl-I"
   },
   "labels_anchors": false,
   "latex_user_defs": false,
   "report_style_numbering": false,
   "user_envs_cfg": false
  },
  "toc": {
   "nav_menu": {},
   "number_sections": true,
   "sideBar": true,
   "skip_h1_title": false,
   "toc_cell": false,
   "toc_position": {},
   "toc_section_display": "block",
   "toc_window_display": false
  },
  "varInspector": {
   "cols": {
    "lenName": 16,
    "lenType": 16,
    "lenVar": 40
   },
   "kernels_config": {
    "python": {
     "delete_cmd_postfix": "",
     "delete_cmd_prefix": "del ",
     "library": "var_list.py",
     "varRefreshCmd": "print(var_dic_list())"
    },
    "r": {
     "delete_cmd_postfix": ") ",
     "delete_cmd_prefix": "rm(",
     "library": "var_list.r",
     "varRefreshCmd": "cat(var_dic_list()) "
    }
   },
   "types_to_exclude": [
    "module",
    "function",
    "builtin_function_or_method",
    "instance",
    "_Feature"
   ],
   "window_display": true
  }
 },
 "nbformat": 4,
 "nbformat_minor": 2
}
